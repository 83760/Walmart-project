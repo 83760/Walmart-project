{
 "cells": [
  {
   "cell_type": "markdown",
   "id": "14496490",
   "metadata": {},
   "source": [
    "# Business Case: Walmart - Confidence Interval and CLT"
   ]
  },
  {
   "cell_type": "markdown",
   "id": "865bf726",
   "metadata": {},
   "source": [
    "### About Walmart\n",
    "\n",
    "Walmart is an American multinational retail corporation that operates a chain of supercenters, discount departmental stores, and grocery stores from the United States. Walmart has more than 100 million customers worldwide."
   ]
  },
  {
   "cell_type": "markdown",
   "id": "c970839b",
   "metadata": {},
   "source": [
    "### Business Problem\n",
    "\n",
    "The Management team at Walmart Inc. wants to analyze the customer purchase behavior (specifically, purchase amount) against the customer’s gender and the various other factors to help the business make better decisions. They want to understand if the spending habits differ between male and female customers: Do women spend more on Black Friday than men? (Assume 50 million customers are male and 50 million are female)."
   ]
  },
  {
   "cell_type": "code",
   "execution_count": 1,
   "id": "355be2ad",
   "metadata": {},
   "outputs": [],
   "source": [
    "#Import the libraries:\n",
    "\n",
    "import numpy as np \n",
    "import pandas as pd\n",
    "import matplotlib.pyplot as plt\n",
    "import seaborn as sns"
   ]
  },
  {
   "cell_type": "code",
   "execution_count": 2,
   "id": "b14b6f93",
   "metadata": {},
   "outputs": [
    {
     "data": {
      "text/html": [
       "<div>\n",
       "<style scoped>\n",
       "    .dataframe tbody tr th:only-of-type {\n",
       "        vertical-align: middle;\n",
       "    }\n",
       "\n",
       "    .dataframe tbody tr th {\n",
       "        vertical-align: top;\n",
       "    }\n",
       "\n",
       "    .dataframe thead th {\n",
       "        text-align: right;\n",
       "    }\n",
       "</style>\n",
       "<table border=\"1\" class=\"dataframe\">\n",
       "  <thead>\n",
       "    <tr style=\"text-align: right;\">\n",
       "      <th></th>\n",
       "      <th>User_ID</th>\n",
       "      <th>Product_ID</th>\n",
       "      <th>Gender</th>\n",
       "      <th>Age</th>\n",
       "      <th>Occupation</th>\n",
       "      <th>City_Category</th>\n",
       "      <th>Stay_In_Current_City_Years</th>\n",
       "      <th>Marital_Status</th>\n",
       "      <th>Product_Category</th>\n",
       "      <th>Purchase</th>\n",
       "    </tr>\n",
       "  </thead>\n",
       "  <tbody>\n",
       "    <tr>\n",
       "      <th>0</th>\n",
       "      <td>1000001</td>\n",
       "      <td>P00069042</td>\n",
       "      <td>F</td>\n",
       "      <td>0-17</td>\n",
       "      <td>10</td>\n",
       "      <td>A</td>\n",
       "      <td>2</td>\n",
       "      <td>0</td>\n",
       "      <td>3</td>\n",
       "      <td>8370</td>\n",
       "    </tr>\n",
       "    <tr>\n",
       "      <th>1</th>\n",
       "      <td>1000001</td>\n",
       "      <td>P00248942</td>\n",
       "      <td>F</td>\n",
       "      <td>0-17</td>\n",
       "      <td>10</td>\n",
       "      <td>A</td>\n",
       "      <td>2</td>\n",
       "      <td>0</td>\n",
       "      <td>1</td>\n",
       "      <td>15200</td>\n",
       "    </tr>\n",
       "    <tr>\n",
       "      <th>2</th>\n",
       "      <td>1000001</td>\n",
       "      <td>P00087842</td>\n",
       "      <td>F</td>\n",
       "      <td>0-17</td>\n",
       "      <td>10</td>\n",
       "      <td>A</td>\n",
       "      <td>2</td>\n",
       "      <td>0</td>\n",
       "      <td>12</td>\n",
       "      <td>1422</td>\n",
       "    </tr>\n",
       "    <tr>\n",
       "      <th>3</th>\n",
       "      <td>1000001</td>\n",
       "      <td>P00085442</td>\n",
       "      <td>F</td>\n",
       "      <td>0-17</td>\n",
       "      <td>10</td>\n",
       "      <td>A</td>\n",
       "      <td>2</td>\n",
       "      <td>0</td>\n",
       "      <td>12</td>\n",
       "      <td>1057</td>\n",
       "    </tr>\n",
       "    <tr>\n",
       "      <th>4</th>\n",
       "      <td>1000002</td>\n",
       "      <td>P00285442</td>\n",
       "      <td>M</td>\n",
       "      <td>55+</td>\n",
       "      <td>16</td>\n",
       "      <td>C</td>\n",
       "      <td>4+</td>\n",
       "      <td>0</td>\n",
       "      <td>8</td>\n",
       "      <td>7969</td>\n",
       "    </tr>\n",
       "    <tr>\n",
       "      <th>...</th>\n",
       "      <td>...</td>\n",
       "      <td>...</td>\n",
       "      <td>...</td>\n",
       "      <td>...</td>\n",
       "      <td>...</td>\n",
       "      <td>...</td>\n",
       "      <td>...</td>\n",
       "      <td>...</td>\n",
       "      <td>...</td>\n",
       "      <td>...</td>\n",
       "    </tr>\n",
       "    <tr>\n",
       "      <th>550063</th>\n",
       "      <td>1006033</td>\n",
       "      <td>P00372445</td>\n",
       "      <td>M</td>\n",
       "      <td>51-55</td>\n",
       "      <td>13</td>\n",
       "      <td>B</td>\n",
       "      <td>1</td>\n",
       "      <td>1</td>\n",
       "      <td>20</td>\n",
       "      <td>368</td>\n",
       "    </tr>\n",
       "    <tr>\n",
       "      <th>550064</th>\n",
       "      <td>1006035</td>\n",
       "      <td>P00375436</td>\n",
       "      <td>F</td>\n",
       "      <td>26-35</td>\n",
       "      <td>1</td>\n",
       "      <td>C</td>\n",
       "      <td>3</td>\n",
       "      <td>0</td>\n",
       "      <td>20</td>\n",
       "      <td>371</td>\n",
       "    </tr>\n",
       "    <tr>\n",
       "      <th>550065</th>\n",
       "      <td>1006036</td>\n",
       "      <td>P00375436</td>\n",
       "      <td>F</td>\n",
       "      <td>26-35</td>\n",
       "      <td>15</td>\n",
       "      <td>B</td>\n",
       "      <td>4+</td>\n",
       "      <td>1</td>\n",
       "      <td>20</td>\n",
       "      <td>137</td>\n",
       "    </tr>\n",
       "    <tr>\n",
       "      <th>550066</th>\n",
       "      <td>1006038</td>\n",
       "      <td>P00375436</td>\n",
       "      <td>F</td>\n",
       "      <td>55+</td>\n",
       "      <td>1</td>\n",
       "      <td>C</td>\n",
       "      <td>2</td>\n",
       "      <td>0</td>\n",
       "      <td>20</td>\n",
       "      <td>365</td>\n",
       "    </tr>\n",
       "    <tr>\n",
       "      <th>550067</th>\n",
       "      <td>1006039</td>\n",
       "      <td>P00371644</td>\n",
       "      <td>F</td>\n",
       "      <td>46-50</td>\n",
       "      <td>0</td>\n",
       "      <td>B</td>\n",
       "      <td>4+</td>\n",
       "      <td>1</td>\n",
       "      <td>20</td>\n",
       "      <td>490</td>\n",
       "    </tr>\n",
       "  </tbody>\n",
       "</table>\n",
       "<p>550068 rows × 10 columns</p>\n",
       "</div>"
      ],
      "text/plain": [
       "        User_ID Product_ID Gender    Age  Occupation City_Category  \\\n",
       "0       1000001  P00069042      F   0-17          10             A   \n",
       "1       1000001  P00248942      F   0-17          10             A   \n",
       "2       1000001  P00087842      F   0-17          10             A   \n",
       "3       1000001  P00085442      F   0-17          10             A   \n",
       "4       1000002  P00285442      M    55+          16             C   \n",
       "...         ...        ...    ...    ...         ...           ...   \n",
       "550063  1006033  P00372445      M  51-55          13             B   \n",
       "550064  1006035  P00375436      F  26-35           1             C   \n",
       "550065  1006036  P00375436      F  26-35          15             B   \n",
       "550066  1006038  P00375436      F    55+           1             C   \n",
       "550067  1006039  P00371644      F  46-50           0             B   \n",
       "\n",
       "       Stay_In_Current_City_Years  Marital_Status  Product_Category  Purchase  \n",
       "0                               2               0                 3      8370  \n",
       "1                               2               0                 1     15200  \n",
       "2                               2               0                12      1422  \n",
       "3                               2               0                12      1057  \n",
       "4                              4+               0                 8      7969  \n",
       "...                           ...             ...               ...       ...  \n",
       "550063                          1               1                20       368  \n",
       "550064                          3               0                20       371  \n",
       "550065                         4+               1                20       137  \n",
       "550066                          2               0                20       365  \n",
       "550067                         4+               1                20       490  \n",
       "\n",
       "[550068 rows x 10 columns]"
      ]
     },
     "execution_count": 2,
     "metadata": {},
     "output_type": "execute_result"
    }
   ],
   "source": [
    "#Read the Walmart data:\n",
    "\n",
    "walmart = pd.read_csv(\"https://d2beiqkhq929f0.cloudfront.net/public_assets/assets/000/001/293/original/walmart_data.csv?1641285094\")\n",
    "walmart"
   ]
  },
  {
   "cell_type": "code",
   "execution_count": 3,
   "id": "866141b9",
   "metadata": {},
   "outputs": [
    {
     "data": {
      "text/plain": [
       "(550068, 10)"
      ]
     },
     "execution_count": 3,
     "metadata": {},
     "output_type": "execute_result"
    }
   ],
   "source": [
    "walmart.shape"
   ]
  },
  {
   "cell_type": "code",
   "execution_count": 4,
   "id": "afa267e8",
   "metadata": {},
   "outputs": [
    {
     "name": "stdout",
     "output_type": "stream",
     "text": [
      "<class 'pandas.core.frame.DataFrame'>\n",
      "RangeIndex: 550068 entries, 0 to 550067\n",
      "Data columns (total 10 columns):\n",
      " #   Column                      Non-Null Count   Dtype \n",
      "---  ------                      --------------   ----- \n",
      " 0   User_ID                     550068 non-null  int64 \n",
      " 1   Product_ID                  550068 non-null  object\n",
      " 2   Gender                      550068 non-null  object\n",
      " 3   Age                         550068 non-null  object\n",
      " 4   Occupation                  550068 non-null  int64 \n",
      " 5   City_Category               550068 non-null  object\n",
      " 6   Stay_In_Current_City_Years  550068 non-null  object\n",
      " 7   Marital_Status              550068 non-null  int64 \n",
      " 8   Product_Category            550068 non-null  int64 \n",
      " 9   Purchase                    550068 non-null  int64 \n",
      "dtypes: int64(5), object(5)\n",
      "memory usage: 42.0+ MB\n"
     ]
    }
   ],
   "source": [
    "walmart.info()"
   ]
  },
  {
   "cell_type": "code",
   "execution_count": 5,
   "id": "5f4daf0e",
   "metadata": {},
   "outputs": [
    {
     "data": {
      "text/html": [
       "<div>\n",
       "<style scoped>\n",
       "    .dataframe tbody tr th:only-of-type {\n",
       "        vertical-align: middle;\n",
       "    }\n",
       "\n",
       "    .dataframe tbody tr th {\n",
       "        vertical-align: top;\n",
       "    }\n",
       "\n",
       "    .dataframe thead th {\n",
       "        text-align: right;\n",
       "    }\n",
       "</style>\n",
       "<table border=\"1\" class=\"dataframe\">\n",
       "  <thead>\n",
       "    <tr style=\"text-align: right;\">\n",
       "      <th></th>\n",
       "      <th>User_ID</th>\n",
       "      <th>Product_ID</th>\n",
       "      <th>Gender</th>\n",
       "      <th>Age</th>\n",
       "      <th>Occupation</th>\n",
       "      <th>City_Category</th>\n",
       "      <th>Stay_In_Current_City_Years</th>\n",
       "      <th>Marital_Status</th>\n",
       "      <th>Product_Category</th>\n",
       "      <th>Purchase</th>\n",
       "    </tr>\n",
       "  </thead>\n",
       "  <tbody>\n",
       "    <tr>\n",
       "      <th>count</th>\n",
       "      <td>5.500680e+05</td>\n",
       "      <td>550068</td>\n",
       "      <td>550068</td>\n",
       "      <td>550068</td>\n",
       "      <td>550068.000000</td>\n",
       "      <td>550068</td>\n",
       "      <td>550068</td>\n",
       "      <td>550068.000000</td>\n",
       "      <td>550068.000000</td>\n",
       "      <td>550068.000000</td>\n",
       "    </tr>\n",
       "    <tr>\n",
       "      <th>unique</th>\n",
       "      <td>NaN</td>\n",
       "      <td>3631</td>\n",
       "      <td>2</td>\n",
       "      <td>7</td>\n",
       "      <td>NaN</td>\n",
       "      <td>3</td>\n",
       "      <td>5</td>\n",
       "      <td>NaN</td>\n",
       "      <td>NaN</td>\n",
       "      <td>NaN</td>\n",
       "    </tr>\n",
       "    <tr>\n",
       "      <th>top</th>\n",
       "      <td>NaN</td>\n",
       "      <td>P00265242</td>\n",
       "      <td>M</td>\n",
       "      <td>26-35</td>\n",
       "      <td>NaN</td>\n",
       "      <td>B</td>\n",
       "      <td>1</td>\n",
       "      <td>NaN</td>\n",
       "      <td>NaN</td>\n",
       "      <td>NaN</td>\n",
       "    </tr>\n",
       "    <tr>\n",
       "      <th>freq</th>\n",
       "      <td>NaN</td>\n",
       "      <td>1880</td>\n",
       "      <td>414259</td>\n",
       "      <td>219587</td>\n",
       "      <td>NaN</td>\n",
       "      <td>231173</td>\n",
       "      <td>193821</td>\n",
       "      <td>NaN</td>\n",
       "      <td>NaN</td>\n",
       "      <td>NaN</td>\n",
       "    </tr>\n",
       "    <tr>\n",
       "      <th>mean</th>\n",
       "      <td>1.003029e+06</td>\n",
       "      <td>NaN</td>\n",
       "      <td>NaN</td>\n",
       "      <td>NaN</td>\n",
       "      <td>8.076707</td>\n",
       "      <td>NaN</td>\n",
       "      <td>NaN</td>\n",
       "      <td>0.409653</td>\n",
       "      <td>5.404270</td>\n",
       "      <td>9263.968713</td>\n",
       "    </tr>\n",
       "    <tr>\n",
       "      <th>std</th>\n",
       "      <td>1.727592e+03</td>\n",
       "      <td>NaN</td>\n",
       "      <td>NaN</td>\n",
       "      <td>NaN</td>\n",
       "      <td>6.522660</td>\n",
       "      <td>NaN</td>\n",
       "      <td>NaN</td>\n",
       "      <td>0.491770</td>\n",
       "      <td>3.936211</td>\n",
       "      <td>5023.065394</td>\n",
       "    </tr>\n",
       "    <tr>\n",
       "      <th>min</th>\n",
       "      <td>1.000001e+06</td>\n",
       "      <td>NaN</td>\n",
       "      <td>NaN</td>\n",
       "      <td>NaN</td>\n",
       "      <td>0.000000</td>\n",
       "      <td>NaN</td>\n",
       "      <td>NaN</td>\n",
       "      <td>0.000000</td>\n",
       "      <td>1.000000</td>\n",
       "      <td>12.000000</td>\n",
       "    </tr>\n",
       "    <tr>\n",
       "      <th>25%</th>\n",
       "      <td>1.001516e+06</td>\n",
       "      <td>NaN</td>\n",
       "      <td>NaN</td>\n",
       "      <td>NaN</td>\n",
       "      <td>2.000000</td>\n",
       "      <td>NaN</td>\n",
       "      <td>NaN</td>\n",
       "      <td>0.000000</td>\n",
       "      <td>1.000000</td>\n",
       "      <td>5823.000000</td>\n",
       "    </tr>\n",
       "    <tr>\n",
       "      <th>50%</th>\n",
       "      <td>1.003077e+06</td>\n",
       "      <td>NaN</td>\n",
       "      <td>NaN</td>\n",
       "      <td>NaN</td>\n",
       "      <td>7.000000</td>\n",
       "      <td>NaN</td>\n",
       "      <td>NaN</td>\n",
       "      <td>0.000000</td>\n",
       "      <td>5.000000</td>\n",
       "      <td>8047.000000</td>\n",
       "    </tr>\n",
       "    <tr>\n",
       "      <th>75%</th>\n",
       "      <td>1.004478e+06</td>\n",
       "      <td>NaN</td>\n",
       "      <td>NaN</td>\n",
       "      <td>NaN</td>\n",
       "      <td>14.000000</td>\n",
       "      <td>NaN</td>\n",
       "      <td>NaN</td>\n",
       "      <td>1.000000</td>\n",
       "      <td>8.000000</td>\n",
       "      <td>12054.000000</td>\n",
       "    </tr>\n",
       "    <tr>\n",
       "      <th>max</th>\n",
       "      <td>1.006040e+06</td>\n",
       "      <td>NaN</td>\n",
       "      <td>NaN</td>\n",
       "      <td>NaN</td>\n",
       "      <td>20.000000</td>\n",
       "      <td>NaN</td>\n",
       "      <td>NaN</td>\n",
       "      <td>1.000000</td>\n",
       "      <td>20.000000</td>\n",
       "      <td>23961.000000</td>\n",
       "    </tr>\n",
       "  </tbody>\n",
       "</table>\n",
       "</div>"
      ],
      "text/plain": [
       "             User_ID Product_ID  Gender     Age     Occupation City_Category  \\\n",
       "count   5.500680e+05     550068  550068  550068  550068.000000        550068   \n",
       "unique           NaN       3631       2       7            NaN             3   \n",
       "top              NaN  P00265242       M   26-35            NaN             B   \n",
       "freq             NaN       1880  414259  219587            NaN        231173   \n",
       "mean    1.003029e+06        NaN     NaN     NaN       8.076707           NaN   \n",
       "std     1.727592e+03        NaN     NaN     NaN       6.522660           NaN   \n",
       "min     1.000001e+06        NaN     NaN     NaN       0.000000           NaN   \n",
       "25%     1.001516e+06        NaN     NaN     NaN       2.000000           NaN   \n",
       "50%     1.003077e+06        NaN     NaN     NaN       7.000000           NaN   \n",
       "75%     1.004478e+06        NaN     NaN     NaN      14.000000           NaN   \n",
       "max     1.006040e+06        NaN     NaN     NaN      20.000000           NaN   \n",
       "\n",
       "       Stay_In_Current_City_Years  Marital_Status  Product_Category  \\\n",
       "count                      550068   550068.000000     550068.000000   \n",
       "unique                          5             NaN               NaN   \n",
       "top                             1             NaN               NaN   \n",
       "freq                       193821             NaN               NaN   \n",
       "mean                          NaN        0.409653          5.404270   \n",
       "std                           NaN        0.491770          3.936211   \n",
       "min                           NaN        0.000000          1.000000   \n",
       "25%                           NaN        0.000000          1.000000   \n",
       "50%                           NaN        0.000000          5.000000   \n",
       "75%                           NaN        1.000000          8.000000   \n",
       "max                           NaN        1.000000         20.000000   \n",
       "\n",
       "             Purchase  \n",
       "count   550068.000000  \n",
       "unique            NaN  \n",
       "top               NaN  \n",
       "freq              NaN  \n",
       "mean      9263.968713  \n",
       "std       5023.065394  \n",
       "min         12.000000  \n",
       "25%       5823.000000  \n",
       "50%       8047.000000  \n",
       "75%      12054.000000  \n",
       "max      23961.000000  "
      ]
     },
     "execution_count": 5,
     "metadata": {},
     "output_type": "execute_result"
    }
   ],
   "source": [
    "walmart.describe(include='all')"
   ]
  },
  {
   "cell_type": "code",
   "execution_count": 6,
   "id": "14583411",
   "metadata": {},
   "outputs": [
    {
     "data": {
      "text/plain": [
       "User_ID                       0.0\n",
       "Product_ID                    0.0\n",
       "Gender                        0.0\n",
       "Age                           0.0\n",
       "Occupation                    0.0\n",
       "City_Category                 0.0\n",
       "Stay_In_Current_City_Years    0.0\n",
       "Marital_Status                0.0\n",
       "Product_Category              0.0\n",
       "Purchase                      0.0\n",
       "dtype: float64"
      ]
     },
     "execution_count": 6,
     "metadata": {},
     "output_type": "execute_result"
    }
   ],
   "source": [
    "#Checking missing values:\n",
    "walmart.isnull().sum()/len(walmart)*100"
   ]
  },
  {
   "cell_type": "markdown",
   "id": "e1c41d04",
   "metadata": {},
   "source": [
    "Observations:\n",
    "\n",
    "1. There are no missing values in the data.\n",
    "2. There are 3631 unique product IDs in the dataset. P00265242 is the most sold Product ID.\n",
    "3. There are 7 unique age groups and most of the purchase belongs to age 26-35 group.\n",
    "4. There are 3 unique citi categories with category B being the highest.\n",
    "5. 5 unique values for Stay_in_current_citi_years with 1 being the highest.\n",
    "6. The difference between mean and median seems to be significant for purchase that suggests outliers in the data.\n",
    "7. Minimum & Maximum purchase is 12 and 23961 suggests the purchasing behaviour is quite spread over a aignificant range of values. Mean is 9264 and 75% of purchase is of less than or equal to 12054. It suggest most of the purchase is not more than 12k.\n",
    "8. Few categorical variable are of integer data type. It can be converted to character type.\n",
    "9. Out of 550068 data points, 414259's gender is Male and rest are the female. Male purchase count is much higher than female.\n",
    "10. Standard deviation for purchase have significant value which suggests data is more spread out for this attribute."
   ]
  },
  {
   "cell_type": "code",
   "execution_count": 7,
   "id": "e67d246c",
   "metadata": {},
   "outputs": [],
   "source": [
    "columns = ['User_ID', 'Occupation', 'Marital_Status', 'Product_Category']\n",
    "walmart[columns] = walmart[columns].astype('object')"
   ]
  },
  {
   "cell_type": "code",
   "execution_count": 8,
   "id": "821d1ad2",
   "metadata": {},
   "outputs": [
    {
     "data": {
      "text/html": [
       "<div>\n",
       "<style scoped>\n",
       "    .dataframe tbody tr th:only-of-type {\n",
       "        vertical-align: middle;\n",
       "    }\n",
       "\n",
       "    .dataframe tbody tr th {\n",
       "        vertical-align: top;\n",
       "    }\n",
       "\n",
       "    .dataframe thead th {\n",
       "        text-align: right;\n",
       "    }\n",
       "</style>\n",
       "<table border=\"1\" class=\"dataframe\">\n",
       "  <thead>\n",
       "    <tr style=\"text-align: right;\">\n",
       "      <th></th>\n",
       "      <th>User_ID</th>\n",
       "      <th>Product_ID</th>\n",
       "      <th>Gender</th>\n",
       "      <th>Age</th>\n",
       "      <th>Occupation</th>\n",
       "      <th>City_Category</th>\n",
       "      <th>Stay_In_Current_City_Years</th>\n",
       "      <th>Marital_Status</th>\n",
       "      <th>Product_Category</th>\n",
       "      <th>Purchase</th>\n",
       "    </tr>\n",
       "  </thead>\n",
       "  <tbody>\n",
       "    <tr>\n",
       "      <th>count</th>\n",
       "      <td>550068.0</td>\n",
       "      <td>550068</td>\n",
       "      <td>550068</td>\n",
       "      <td>550068</td>\n",
       "      <td>550068.0</td>\n",
       "      <td>550068</td>\n",
       "      <td>550068</td>\n",
       "      <td>550068.0</td>\n",
       "      <td>550068.0</td>\n",
       "      <td>550068.000000</td>\n",
       "    </tr>\n",
       "    <tr>\n",
       "      <th>unique</th>\n",
       "      <td>5891.0</td>\n",
       "      <td>3631</td>\n",
       "      <td>2</td>\n",
       "      <td>7</td>\n",
       "      <td>21.0</td>\n",
       "      <td>3</td>\n",
       "      <td>5</td>\n",
       "      <td>2.0</td>\n",
       "      <td>20.0</td>\n",
       "      <td>NaN</td>\n",
       "    </tr>\n",
       "    <tr>\n",
       "      <th>top</th>\n",
       "      <td>1001680.0</td>\n",
       "      <td>P00265242</td>\n",
       "      <td>M</td>\n",
       "      <td>26-35</td>\n",
       "      <td>4.0</td>\n",
       "      <td>B</td>\n",
       "      <td>1</td>\n",
       "      <td>0.0</td>\n",
       "      <td>5.0</td>\n",
       "      <td>NaN</td>\n",
       "    </tr>\n",
       "    <tr>\n",
       "      <th>freq</th>\n",
       "      <td>1026.0</td>\n",
       "      <td>1880</td>\n",
       "      <td>414259</td>\n",
       "      <td>219587</td>\n",
       "      <td>72308.0</td>\n",
       "      <td>231173</td>\n",
       "      <td>193821</td>\n",
       "      <td>324731.0</td>\n",
       "      <td>150933.0</td>\n",
       "      <td>NaN</td>\n",
       "    </tr>\n",
       "    <tr>\n",
       "      <th>mean</th>\n",
       "      <td>NaN</td>\n",
       "      <td>NaN</td>\n",
       "      <td>NaN</td>\n",
       "      <td>NaN</td>\n",
       "      <td>NaN</td>\n",
       "      <td>NaN</td>\n",
       "      <td>NaN</td>\n",
       "      <td>NaN</td>\n",
       "      <td>NaN</td>\n",
       "      <td>9263.968713</td>\n",
       "    </tr>\n",
       "    <tr>\n",
       "      <th>std</th>\n",
       "      <td>NaN</td>\n",
       "      <td>NaN</td>\n",
       "      <td>NaN</td>\n",
       "      <td>NaN</td>\n",
       "      <td>NaN</td>\n",
       "      <td>NaN</td>\n",
       "      <td>NaN</td>\n",
       "      <td>NaN</td>\n",
       "      <td>NaN</td>\n",
       "      <td>5023.065394</td>\n",
       "    </tr>\n",
       "    <tr>\n",
       "      <th>min</th>\n",
       "      <td>NaN</td>\n",
       "      <td>NaN</td>\n",
       "      <td>NaN</td>\n",
       "      <td>NaN</td>\n",
       "      <td>NaN</td>\n",
       "      <td>NaN</td>\n",
       "      <td>NaN</td>\n",
       "      <td>NaN</td>\n",
       "      <td>NaN</td>\n",
       "      <td>12.000000</td>\n",
       "    </tr>\n",
       "    <tr>\n",
       "      <th>25%</th>\n",
       "      <td>NaN</td>\n",
       "      <td>NaN</td>\n",
       "      <td>NaN</td>\n",
       "      <td>NaN</td>\n",
       "      <td>NaN</td>\n",
       "      <td>NaN</td>\n",
       "      <td>NaN</td>\n",
       "      <td>NaN</td>\n",
       "      <td>NaN</td>\n",
       "      <td>5823.000000</td>\n",
       "    </tr>\n",
       "    <tr>\n",
       "      <th>50%</th>\n",
       "      <td>NaN</td>\n",
       "      <td>NaN</td>\n",
       "      <td>NaN</td>\n",
       "      <td>NaN</td>\n",
       "      <td>NaN</td>\n",
       "      <td>NaN</td>\n",
       "      <td>NaN</td>\n",
       "      <td>NaN</td>\n",
       "      <td>NaN</td>\n",
       "      <td>8047.000000</td>\n",
       "    </tr>\n",
       "    <tr>\n",
       "      <th>75%</th>\n",
       "      <td>NaN</td>\n",
       "      <td>NaN</td>\n",
       "      <td>NaN</td>\n",
       "      <td>NaN</td>\n",
       "      <td>NaN</td>\n",
       "      <td>NaN</td>\n",
       "      <td>NaN</td>\n",
       "      <td>NaN</td>\n",
       "      <td>NaN</td>\n",
       "      <td>12054.000000</td>\n",
       "    </tr>\n",
       "    <tr>\n",
       "      <th>max</th>\n",
       "      <td>NaN</td>\n",
       "      <td>NaN</td>\n",
       "      <td>NaN</td>\n",
       "      <td>NaN</td>\n",
       "      <td>NaN</td>\n",
       "      <td>NaN</td>\n",
       "      <td>NaN</td>\n",
       "      <td>NaN</td>\n",
       "      <td>NaN</td>\n",
       "      <td>23961.000000</td>\n",
       "    </tr>\n",
       "  </tbody>\n",
       "</table>\n",
       "</div>"
      ],
      "text/plain": [
       "          User_ID Product_ID  Gender     Age  Occupation City_Category  \\\n",
       "count    550068.0     550068  550068  550068    550068.0        550068   \n",
       "unique     5891.0       3631       2       7        21.0             3   \n",
       "top     1001680.0  P00265242       M   26-35         4.0             B   \n",
       "freq       1026.0       1880  414259  219587     72308.0        231173   \n",
       "mean          NaN        NaN     NaN     NaN         NaN           NaN   \n",
       "std           NaN        NaN     NaN     NaN         NaN           NaN   \n",
       "min           NaN        NaN     NaN     NaN         NaN           NaN   \n",
       "25%           NaN        NaN     NaN     NaN         NaN           NaN   \n",
       "50%           NaN        NaN     NaN     NaN         NaN           NaN   \n",
       "75%           NaN        NaN     NaN     NaN         NaN           NaN   \n",
       "max           NaN        NaN     NaN     NaN         NaN           NaN   \n",
       "\n",
       "       Stay_In_Current_City_Years  Marital_Status  Product_Category  \\\n",
       "count                      550068        550068.0          550068.0   \n",
       "unique                          5             2.0              20.0   \n",
       "top                             1             0.0               5.0   \n",
       "freq                       193821        324731.0          150933.0   \n",
       "mean                          NaN             NaN               NaN   \n",
       "std                           NaN             NaN               NaN   \n",
       "min                           NaN             NaN               NaN   \n",
       "25%                           NaN             NaN               NaN   \n",
       "50%                           NaN             NaN               NaN   \n",
       "75%                           NaN             NaN               NaN   \n",
       "max                           NaN             NaN               NaN   \n",
       "\n",
       "             Purchase  \n",
       "count   550068.000000  \n",
       "unique            NaN  \n",
       "top               NaN  \n",
       "freq              NaN  \n",
       "mean      9263.968713  \n",
       "std       5023.065394  \n",
       "min         12.000000  \n",
       "25%       5823.000000  \n",
       "50%       8047.000000  \n",
       "75%      12054.000000  \n",
       "max      23961.000000  "
      ]
     },
     "execution_count": 8,
     "metadata": {},
     "output_type": "execute_result"
    }
   ],
   "source": [
    "walmart.describe(include='all')"
   ]
  },
  {
   "cell_type": "markdown",
   "id": "c4a41861",
   "metadata": {},
   "source": [
    "Observation after modifying the categorical variable's data type:\n",
    "\n",
    "1. There are 5891 unique users, and userid 1001680 being with the highest count.\n",
    "2. The customers belongs to 21 distinct occupation for the purchases being made with Occupation 4 being the highest.\n",
    "3. Marital status unmarried contribute more in terms of the count for the purchase.\n",
    "4. There are 20 unique product categories with 5 being the highest."
   ]
  },
  {
   "cell_type": "code",
   "execution_count": 9,
   "id": "8c6ee664",
   "metadata": {},
   "outputs": [
    {
     "data": {
      "text/html": [
       "<div>\n",
       "<style scoped>\n",
       "    .dataframe tbody tr th:only-of-type {\n",
       "        vertical-align: middle;\n",
       "    }\n",
       "\n",
       "    .dataframe tbody tr th {\n",
       "        vertical-align: top;\n",
       "    }\n",
       "\n",
       "    .dataframe thead th {\n",
       "        text-align: right;\n",
       "    }\n",
       "</style>\n",
       "<table border=\"1\" class=\"dataframe\">\n",
       "  <thead>\n",
       "    <tr style=\"text-align: right;\">\n",
       "      <th></th>\n",
       "      <th></th>\n",
       "      <th>value</th>\n",
       "    </tr>\n",
       "    <tr>\n",
       "      <th>variable</th>\n",
       "      <th>value</th>\n",
       "      <th></th>\n",
       "    </tr>\n",
       "  </thead>\n",
       "  <tbody>\n",
       "    <tr>\n",
       "      <th rowspan=\"7\" valign=\"top\">Age</th>\n",
       "      <th>0-17</th>\n",
       "      <td>2.745479</td>\n",
       "    </tr>\n",
       "    <tr>\n",
       "      <th>18-25</th>\n",
       "      <td>18.117760</td>\n",
       "    </tr>\n",
       "    <tr>\n",
       "      <th>26-35</th>\n",
       "      <td>39.919974</td>\n",
       "    </tr>\n",
       "    <tr>\n",
       "      <th>36-45</th>\n",
       "      <td>19.999891</td>\n",
       "    </tr>\n",
       "    <tr>\n",
       "      <th>46-50</th>\n",
       "      <td>8.308246</td>\n",
       "    </tr>\n",
       "    <tr>\n",
       "      <th>51-55</th>\n",
       "      <td>6.999316</td>\n",
       "    </tr>\n",
       "    <tr>\n",
       "      <th>55+</th>\n",
       "      <td>3.909335</td>\n",
       "    </tr>\n",
       "    <tr>\n",
       "      <th rowspan=\"3\" valign=\"top\">City_Category</th>\n",
       "      <th>A</th>\n",
       "      <td>26.854862</td>\n",
       "    </tr>\n",
       "    <tr>\n",
       "      <th>B</th>\n",
       "      <td>42.026259</td>\n",
       "    </tr>\n",
       "    <tr>\n",
       "      <th>C</th>\n",
       "      <td>31.118880</td>\n",
       "    </tr>\n",
       "    <tr>\n",
       "      <th rowspan=\"2\" valign=\"top\">Gender</th>\n",
       "      <th>F</th>\n",
       "      <td>24.689493</td>\n",
       "    </tr>\n",
       "    <tr>\n",
       "      <th>M</th>\n",
       "      <td>75.310507</td>\n",
       "    </tr>\n",
       "    <tr>\n",
       "      <th rowspan=\"2\" valign=\"top\">Marital_Status</th>\n",
       "      <th>0</th>\n",
       "      <td>59.034701</td>\n",
       "    </tr>\n",
       "    <tr>\n",
       "      <th>1</th>\n",
       "      <td>40.965299</td>\n",
       "    </tr>\n",
       "    <tr>\n",
       "      <th rowspan=\"5\" valign=\"top\">Stay_In_Current_City_Years</th>\n",
       "      <th>0</th>\n",
       "      <td>13.525237</td>\n",
       "    </tr>\n",
       "    <tr>\n",
       "      <th>1</th>\n",
       "      <td>35.235825</td>\n",
       "    </tr>\n",
       "    <tr>\n",
       "      <th>2</th>\n",
       "      <td>18.513711</td>\n",
       "    </tr>\n",
       "    <tr>\n",
       "      <th>3</th>\n",
       "      <td>17.322404</td>\n",
       "    </tr>\n",
       "    <tr>\n",
       "      <th>4+</th>\n",
       "      <td>15.402823</td>\n",
       "    </tr>\n",
       "  </tbody>\n",
       "</table>\n",
       "</div>"
      ],
      "text/plain": [
       "                                      value\n",
       "variable                   value           \n",
       "Age                        0-17    2.745479\n",
       "                           18-25  18.117760\n",
       "                           26-35  39.919974\n",
       "                           36-45  19.999891\n",
       "                           46-50   8.308246\n",
       "                           51-55   6.999316\n",
       "                           55+     3.909335\n",
       "City_Category              A      26.854862\n",
       "                           B      42.026259\n",
       "                           C      31.118880\n",
       "Gender                     F      24.689493\n",
       "                           M      75.310507\n",
       "Marital_Status             0      59.034701\n",
       "                           1      40.965299\n",
       "Stay_In_Current_City_Years 0      13.525237\n",
       "                           1      35.235825\n",
       "                           2      18.513711\n",
       "                           3      17.322404\n",
       "                           4+     15.402823"
      ]
     },
     "execution_count": 9,
     "metadata": {},
     "output_type": "execute_result"
    }
   ],
   "source": [
    "# Checking how categorical variables contributes to the entire data\n",
    "cate_cols = ['Gender', 'Age', 'City_Category', 'Stay_In_Current_City_Years', 'Marital_Status']\n",
    "walmart[cate_cols].melt().groupby(['variable', 'value'])[['value']].count()/len(walmart)*100"
   ]
  },
  {
   "cell_type": "markdown",
   "id": "c139416a",
   "metadata": {},
   "source": [
    "Observations:\n",
    "\n",
    "1. 40% of the purchase done by aged 26-35 and 78% purchase are done by the customers aged between the age 18-45 (40% : 26-35, 18% : 18-25, 20% : 36-45)\n",
    "2. 75% of the purchase count are done by Male and 25% by Female\n",
    "3. 60% Single, 40% Married contributes to the purchase count.\n",
    "4. 35% Staying in the city from 1 year, 18% from 2 years, 17% from 3 years\n",
    "5. There are 20 product categories in total.\n",
    "6. There are 20 different types of occupations in the city."
   ]
  },
  {
   "cell_type": "code",
   "execution_count": 10,
   "id": "e79ca3c2",
   "metadata": {},
   "outputs": [
    {
     "data": {
      "text/plain": [
       "[26-35]    34.849771\n",
       "[36-45]    19.809879\n",
       "[18-25]    18.146325\n",
       "[46-50]     9.013750\n",
       "[51-55]     8.164997\n",
       "[55+]       6.314717\n",
       "[0-17]      3.700560\n",
       "Name: Age, dtype: float64"
      ]
     },
     "execution_count": 10,
     "metadata": {},
     "output_type": "execute_result"
    }
   ],
   "source": [
    "#Checking how the data is spread basis distinct users\n",
    "wm = walmart.groupby(['User_ID'])['Age'].unique()\n",
    "wm.value_counts()/len(wm)*100"
   ]
  },
  {
   "cell_type": "markdown",
   "id": "68607321",
   "metadata": {},
   "source": [
    "Observation:\n",
    "\n",
    "1. We can see 35% of the users are aged 26-35.\n",
    "2. From the previous observation we saw 40% of the purchase are done by users aged 26-35. And, we have 35% of users aged between 26-35 and they are contributing 40% of total purchase count.So, we can infer users aged 26-35 are more frequent  customers."
   ]
  },
  {
   "cell_type": "code",
   "execution_count": 11,
   "id": "3a991042",
   "metadata": {},
   "outputs": [
    {
     "data": {
      "text/plain": [
       "[M]    71.719572\n",
       "[F]    28.280428\n",
       "Name: Gender, dtype: float64"
      ]
     },
     "execution_count": 11,
     "metadata": {},
     "output_type": "execute_result"
    }
   ],
   "source": [
    "wm = walmart.groupby(['User_ID'])['Gender'].unique()\n",
    "wm.value_counts()/len(wm)*100"
   ]
  },
  {
   "cell_type": "markdown",
   "id": "42913d4e",
   "metadata": {},
   "source": [
    "Observation: We have 72% male users and 28% female users. Combining with previous observations we can see 72% of male users contributing to 75% of the purchase count and 28% of female users are contributing to 25% of the purchase count."
   ]
  },
  {
   "cell_type": "code",
   "execution_count": 12,
   "id": "5403851c",
   "metadata": {},
   "outputs": [
    {
     "data": {
      "text/plain": [
       "[0]    58.003735\n",
       "[1]    41.996265\n",
       "Name: Marital_Status, dtype: float64"
      ]
     },
     "execution_count": 12,
     "metadata": {},
     "output_type": "execute_result"
    }
   ],
   "source": [
    "wm = walmart.groupby(['User_ID'])['Marital_Status'].unique()\n",
    "wm.value_counts()/len(wm)*100"
   ]
  },
  {
   "cell_type": "markdown",
   "id": "f73416d3",
   "metadata": {},
   "source": [
    "Observation: We have 58% of the single users and 42% of married users. Combining with previous observation, single users contributes more as 58% of the single contributes to the 60% of the purchase count."
   ]
  },
  {
   "cell_type": "code",
   "execution_count": 13,
   "id": "e11281b2",
   "metadata": {},
   "outputs": [
    {
     "data": {
      "text/plain": [
       "[C]    53.284672\n",
       "[B]    28.976405\n",
       "[A]    17.738924\n",
       "Name: City_Category, dtype: float64"
      ]
     },
     "execution_count": 13,
     "metadata": {},
     "output_type": "execute_result"
    }
   ],
   "source": [
    "wm = walmart.groupby(['User_ID'])['City_Category'].unique()\n",
    "wm.value_counts()/len(wm)*100"
   ]
  },
  {
   "cell_type": "markdown",
   "id": "333aee8e",
   "metadata": {},
   "source": [
    "Observation: 53% of the users belong to city category C whereas 29% to category B and 18% belong to category A. Combining from the previous observation category B purchase count is 42% and Category C purchase count is 31%. We can clearly see category B are more actively purchasing inspite of the fact they are only 28% of the total users. On the other hand, we have 53% of category C users but they only contribute 31% of the total purchase count.\n"
   ]
  },
  {
   "cell_type": "code",
   "execution_count": 14,
   "id": "b35e6ed2",
   "metadata": {},
   "outputs": [
    {
     "data": {
      "text/html": [
       "<div>\n",
       "<style scoped>\n",
       "    .dataframe tbody tr th:only-of-type {\n",
       "        vertical-align: middle;\n",
       "    }\n",
       "\n",
       "    .dataframe tbody tr th {\n",
       "        vertical-align: top;\n",
       "    }\n",
       "\n",
       "    .dataframe thead th {\n",
       "        text-align: right;\n",
       "    }\n",
       "</style>\n",
       "<table border=\"1\" class=\"dataframe\">\n",
       "  <thead>\n",
       "    <tr style=\"text-align: right;\">\n",
       "      <th>Age</th>\n",
       "      <th>0-17</th>\n",
       "      <th>18-25</th>\n",
       "      <th>26-35</th>\n",
       "      <th>36-45</th>\n",
       "      <th>46-50</th>\n",
       "      <th>51-55</th>\n",
       "      <th>55+</th>\n",
       "    </tr>\n",
       "    <tr>\n",
       "      <th>City_Category</th>\n",
       "      <th></th>\n",
       "      <th></th>\n",
       "      <th></th>\n",
       "      <th></th>\n",
       "      <th></th>\n",
       "      <th></th>\n",
       "      <th></th>\n",
       "    </tr>\n",
       "  </thead>\n",
       "  <tbody>\n",
       "    <tr>\n",
       "      <th>A</th>\n",
       "      <td>0.017222</td>\n",
       "      <td>0.186400</td>\n",
       "      <td>0.499222</td>\n",
       "      <td>0.180185</td>\n",
       "      <td>0.051496</td>\n",
       "      <td>0.041288</td>\n",
       "      <td>0.024188</td>\n",
       "    </tr>\n",
       "    <tr>\n",
       "      <th>B</th>\n",
       "      <td>0.023511</td>\n",
       "      <td>0.187076</td>\n",
       "      <td>0.396171</td>\n",
       "      <td>0.205898</td>\n",
       "      <td>0.088272</td>\n",
       "      <td>0.076743</td>\n",
       "      <td>0.022330</td>\n",
       "    </tr>\n",
       "    <tr>\n",
       "      <th>C</th>\n",
       "      <td>0.041612</td>\n",
       "      <td>0.168705</td>\n",
       "      <td>0.316974</td>\n",
       "      <td>0.209131</td>\n",
       "      <td>0.103333</td>\n",
       "      <td>0.085649</td>\n",
       "      <td>0.074596</td>\n",
       "    </tr>\n",
       "    <tr>\n",
       "      <th>All</th>\n",
       "      <td>0.027455</td>\n",
       "      <td>0.181178</td>\n",
       "      <td>0.399200</td>\n",
       "      <td>0.199999</td>\n",
       "      <td>0.083082</td>\n",
       "      <td>0.069993</td>\n",
       "      <td>0.039093</td>\n",
       "    </tr>\n",
       "  </tbody>\n",
       "</table>\n",
       "</div>"
      ],
      "text/plain": [
       "Age                0-17     18-25     26-35     36-45     46-50     51-55  \\\n",
       "City_Category                                                               \n",
       "A              0.017222  0.186400  0.499222  0.180185  0.051496  0.041288   \n",
       "B              0.023511  0.187076  0.396171  0.205898  0.088272  0.076743   \n",
       "C              0.041612  0.168705  0.316974  0.209131  0.103333  0.085649   \n",
       "All            0.027455  0.181178  0.399200  0.199999  0.083082  0.069993   \n",
       "\n",
       "Age                 55+  \n",
       "City_Category            \n",
       "A              0.024188  \n",
       "B              0.022330  \n",
       "C              0.074596  \n",
       "All            0.039093  "
      ]
     },
     "execution_count": 14,
     "metadata": {},
     "output_type": "execute_result"
    }
   ],
   "source": [
    "#Checking the age group distribution in different city categories\n",
    "pd.crosstab(index=walmart[\"City_Category\"],columns=walmart[\"Age\"],margins=True,normalize=\"index\")"
   ]
  },
  {
   "cell_type": "markdown",
   "id": "6243c91f",
   "metadata": {},
   "source": [
    "Observation: We have seen earlier that city category B and A constitutes less percentage of total population, but they contribute more towards purchase count. We can see from above results large percentage of customers aged 26-35 for B(40%) and A (50%) which can be the reason for these city categories to be more actively purchasing.\n"
   ]
  },
  {
   "cell_type": "code",
   "execution_count": 15,
   "id": "28140a4f",
   "metadata": {},
   "outputs": [
    {
     "data": {
      "text/html": [
       "<div>\n",
       "<style scoped>\n",
       "    .dataframe tbody tr th:only-of-type {\n",
       "        vertical-align: middle;\n",
       "    }\n",
       "\n",
       "    .dataframe tbody tr th {\n",
       "        vertical-align: top;\n",
       "    }\n",
       "\n",
       "    .dataframe thead th {\n",
       "        text-align: right;\n",
       "    }\n",
       "</style>\n",
       "<table border=\"1\" class=\"dataframe\">\n",
       "  <thead>\n",
       "    <tr style=\"text-align: right;\">\n",
       "      <th></th>\n",
       "      <th>Purchase</th>\n",
       "      <th>Percent</th>\n",
       "    </tr>\n",
       "    <tr>\n",
       "      <th>Gender</th>\n",
       "      <th></th>\n",
       "      <th></th>\n",
       "    </tr>\n",
       "  </thead>\n",
       "  <tbody>\n",
       "    <tr>\n",
       "      <th>F</th>\n",
       "      <td>1186232642</td>\n",
       "      <td>23.278576</td>\n",
       "    </tr>\n",
       "    <tr>\n",
       "      <th>M</th>\n",
       "      <td>3909580100</td>\n",
       "      <td>76.721424</td>\n",
       "    </tr>\n",
       "  </tbody>\n",
       "</table>\n",
       "</div>"
      ],
      "text/plain": [
       "          Purchase    Percent\n",
       "Gender                       \n",
       "F       1186232642  23.278576\n",
       "M       3909580100  76.721424"
      ]
     },
     "execution_count": 15,
     "metadata": {},
     "output_type": "execute_result"
    }
   ],
   "source": [
    "#Checking how genders are contributing towards toatl purchase amount\n",
    "wm=pd.DataFrame(walmart.groupby(['Gender'])[['Purchase']].sum())\n",
    "\n",
    "wm['Percent'] = (wm['Purchase']/wm['Purchase'].sum())*100\n",
    "wm"
   ]
  },
  {
   "cell_type": "markdown",
   "id": "2e226ae4",
   "metadata": {},
   "source": [
    "Observation: We can see male(72% of the population) contributes to more than 76% of the total purchase amount whereas female(28% of the population) contributes 23% of the total purchase amount."
   ]
  },
  {
   "cell_type": "code",
   "execution_count": 16,
   "id": "2d08cf92",
   "metadata": {},
   "outputs": [
    {
     "data": {
      "text/html": [
       "<div>\n",
       "<style scoped>\n",
       "    .dataframe tbody tr th:only-of-type {\n",
       "        vertical-align: middle;\n",
       "    }\n",
       "\n",
       "    .dataframe tbody tr th {\n",
       "        vertical-align: top;\n",
       "    }\n",
       "\n",
       "    .dataframe thead th {\n",
       "        text-align: right;\n",
       "    }\n",
       "</style>\n",
       "<table border=\"1\" class=\"dataframe\">\n",
       "  <thead>\n",
       "    <tr style=\"text-align: right;\">\n",
       "      <th></th>\n",
       "      <th>Purchase</th>\n",
       "      <th>Percent</th>\n",
       "    </tr>\n",
       "    <tr>\n",
       "      <th>Age</th>\n",
       "      <th></th>\n",
       "      <th></th>\n",
       "    </tr>\n",
       "  </thead>\n",
       "  <tbody>\n",
       "    <tr>\n",
       "      <th>0-17</th>\n",
       "      <td>134913183</td>\n",
       "      <td>2.647530</td>\n",
       "    </tr>\n",
       "    <tr>\n",
       "      <th>18-25</th>\n",
       "      <td>913848675</td>\n",
       "      <td>17.933325</td>\n",
       "    </tr>\n",
       "    <tr>\n",
       "      <th>26-35</th>\n",
       "      <td>2031770578</td>\n",
       "      <td>39.871374</td>\n",
       "    </tr>\n",
       "    <tr>\n",
       "      <th>36-45</th>\n",
       "      <td>1026569884</td>\n",
       "      <td>20.145361</td>\n",
       "    </tr>\n",
       "    <tr>\n",
       "      <th>46-50</th>\n",
       "      <td>420843403</td>\n",
       "      <td>8.258612</td>\n",
       "    </tr>\n",
       "    <tr>\n",
       "      <th>51-55</th>\n",
       "      <td>367099644</td>\n",
       "      <td>7.203947</td>\n",
       "    </tr>\n",
       "    <tr>\n",
       "      <th>55+</th>\n",
       "      <td>200767375</td>\n",
       "      <td>3.939850</td>\n",
       "    </tr>\n",
       "  </tbody>\n",
       "</table>\n",
       "</div>"
      ],
      "text/plain": [
       "         Purchase    Percent\n",
       "Age                         \n",
       "0-17    134913183   2.647530\n",
       "18-25   913848675  17.933325\n",
       "26-35  2031770578  39.871374\n",
       "36-45  1026569884  20.145361\n",
       "46-50   420843403   8.258612\n",
       "51-55   367099644   7.203947\n",
       "55+     200767375   3.939850"
      ]
     },
     "execution_count": 16,
     "metadata": {},
     "output_type": "execute_result"
    }
   ],
   "source": [
    "#Checking how purchase value are spread among differnt age categories\n",
    "wm=pd.DataFrame(walmart.groupby(['Age'])[['Purchase']].sum())\n",
    "\n",
    "wm['Percent'] = (wm['Purchase']/wm['Purchase'].sum())*100\n",
    "wm"
   ]
  },
  {
   "cell_type": "markdown",
   "id": "a08743cd",
   "metadata": {},
   "source": [
    "Observation: We can see the net purchase amount spread is similar to the purchase count spread among the different age groups."
   ]
  },
  {
   "cell_type": "code",
   "execution_count": 17,
   "id": "9cc8f82e",
   "metadata": {},
   "outputs": [
    {
     "data": {
      "text/html": [
       "<div>\n",
       "<style scoped>\n",
       "    .dataframe tbody tr th:only-of-type {\n",
       "        vertical-align: middle;\n",
       "    }\n",
       "\n",
       "    .dataframe tbody tr th {\n",
       "        vertical-align: top;\n",
       "    }\n",
       "\n",
       "    .dataframe thead th {\n",
       "        text-align: right;\n",
       "    }\n",
       "</style>\n",
       "<table border=\"1\" class=\"dataframe\">\n",
       "  <thead>\n",
       "    <tr style=\"text-align: right;\">\n",
       "      <th></th>\n",
       "      <th>Purchase</th>\n",
       "      <th>Percent</th>\n",
       "    </tr>\n",
       "    <tr>\n",
       "      <th>Marital_Status</th>\n",
       "      <th></th>\n",
       "      <th></th>\n",
       "    </tr>\n",
       "  </thead>\n",
       "  <tbody>\n",
       "    <tr>\n",
       "      <th>0</th>\n",
       "      <td>3008927447</td>\n",
       "      <td>59.047057</td>\n",
       "    </tr>\n",
       "    <tr>\n",
       "      <th>1</th>\n",
       "      <td>2086885295</td>\n",
       "      <td>40.952943</td>\n",
       "    </tr>\n",
       "  </tbody>\n",
       "</table>\n",
       "</div>"
      ],
      "text/plain": [
       "                  Purchase    Percent\n",
       "Marital_Status                       \n",
       "0               3008927447  59.047057\n",
       "1               2086885295  40.952943"
      ]
     },
     "execution_count": 17,
     "metadata": {},
     "output_type": "execute_result"
    }
   ],
   "source": [
    "#Checking how purchase value are spread among differnt marital status\n",
    "wm=pd.DataFrame(walmart.groupby(['Marital_Status'])[['Purchase']].sum())\n",
    "\n",
    "wm['Percent'] = (wm['Purchase']/wm['Purchase'].sum())*100\n",
    "wm"
   ]
  },
  {
   "cell_type": "markdown",
   "id": "273db665",
   "metadata": {},
   "source": [
    "Observations: Single users are contributing 59% towards the total purchase amount in comparison to 41% by married users."
   ]
  },
  {
   "cell_type": "code",
   "execution_count": 18,
   "id": "cce1b794",
   "metadata": {},
   "outputs": [
    {
     "data": {
      "text/html": [
       "<div>\n",
       "<style scoped>\n",
       "    .dataframe tbody tr th:only-of-type {\n",
       "        vertical-align: middle;\n",
       "    }\n",
       "\n",
       "    .dataframe tbody tr th {\n",
       "        vertical-align: top;\n",
       "    }\n",
       "\n",
       "    .dataframe thead th {\n",
       "        text-align: right;\n",
       "    }\n",
       "</style>\n",
       "<table border=\"1\" class=\"dataframe\">\n",
       "  <thead>\n",
       "    <tr style=\"text-align: right;\">\n",
       "      <th></th>\n",
       "      <th>Purchase</th>\n",
       "      <th>Percent</th>\n",
       "    </tr>\n",
       "    <tr>\n",
       "      <th>City_Category</th>\n",
       "      <th></th>\n",
       "      <th></th>\n",
       "    </tr>\n",
       "  </thead>\n",
       "  <tbody>\n",
       "    <tr>\n",
       "      <th>A</th>\n",
       "      <td>1316471661</td>\n",
       "      <td>25.834381</td>\n",
       "    </tr>\n",
       "    <tr>\n",
       "      <th>B</th>\n",
       "      <td>2115533605</td>\n",
       "      <td>41.515136</td>\n",
       "    </tr>\n",
       "    <tr>\n",
       "      <th>C</th>\n",
       "      <td>1663807476</td>\n",
       "      <td>32.650483</td>\n",
       "    </tr>\n",
       "  </tbody>\n",
       "</table>\n",
       "</div>"
      ],
      "text/plain": [
       "                 Purchase    Percent\n",
       "City_Category                       \n",
       "A              1316471661  25.834381\n",
       "B              2115533605  41.515136\n",
       "C              1663807476  32.650483"
      ]
     },
     "execution_count": 18,
     "metadata": {},
     "output_type": "execute_result"
    }
   ],
   "source": [
    "#Checking how purchase value are spread among differnt city categories\n",
    "wm=pd.DataFrame(walmart.groupby(['City_Category'])[['Purchase']].sum())\n",
    "\n",
    "wm['Percent'] = (wm['Purchase']/wm['Purchase'].sum())*100\n",
    "wm"
   ]
  },
  {
   "cell_type": "markdown",
   "id": "f197db82",
   "metadata": {},
   "source": [
    "Observations: City_category contribution to the total purchase amount is also similar to their contribution towards Purchase count. Still, combining with previous observation we can City_category C although has percentage purchase count of 31% but they contribute more in terms of purchase amount i.e. 32.65%. We can infer City category C purchase higher value products.\n"
   ]
  },
  {
   "cell_type": "code",
   "execution_count": 19,
   "id": "3c551a42",
   "metadata": {},
   "outputs": [
    {
     "data": {
      "text/plain": [
       "User_ID\n",
       "1001680    1026\n",
       "1004277     979\n",
       "1001941     898\n",
       "1001181     862\n",
       "1000889     823\n",
       "1003618     767\n",
       "1001150     752\n",
       "1001015     740\n",
       "1005795     729\n",
       "1005831     727\n",
       "Name: Purchase, dtype: int64"
      ]
     },
     "execution_count": 19,
     "metadata": {},
     "output_type": "execute_result"
    }
   ],
   "source": [
    "# Users with highest number of purchases\n",
    "walmart.groupby(['User_ID'])['Purchase'].count().nlargest(10) "
   ]
  },
  {
   "cell_type": "code",
   "execution_count": 20,
   "id": "8fa573a3",
   "metadata": {},
   "outputs": [
    {
     "data": {
      "text/plain": [
       "User_ID\n",
       "1004277    10536909\n",
       "1001680     8699596\n",
       "1002909     7577756\n",
       "1001941     6817493\n",
       "1000424     6573609\n",
       "1004448     6566245\n",
       "1005831     6512433\n",
       "1001015     6511314\n",
       "1003391     6477160\n",
       "1001181     6387961\n",
       "Name: Purchase, dtype: int64"
      ]
     },
     "execution_count": 20,
     "metadata": {},
     "output_type": "execute_result"
    }
   ],
   "source": [
    "#Users with highest purchases amount\n",
    "walmart.groupby(['User_ID'])['Purchase'].sum().nlargest(10) "
   ]
  },
  {
   "cell_type": "markdown",
   "id": "bbec70e4",
   "metadata": {},
   "source": [
    "Observation: The users with high number of purchases contribute more to the purchase amount. Still, we can see there are few users not in the list of top 10 purchase counts are there in list of top 10 purchase amount. Also, the user 1004277 with lesser purchase count(979) has a much higher purchase amount than the user(1001680) with top purchase count."
   ]
  },
  {
   "cell_type": "code",
   "execution_count": 21,
   "id": "b10af301",
   "metadata": {},
   "outputs": [
    {
     "data": {
      "text/html": [
       "<div>\n",
       "<style scoped>\n",
       "    .dataframe tbody tr th:only-of-type {\n",
       "        vertical-align: middle;\n",
       "    }\n",
       "\n",
       "    .dataframe tbody tr th {\n",
       "        vertical-align: top;\n",
       "    }\n",
       "\n",
       "    .dataframe thead th {\n",
       "        text-align: right;\n",
       "    }\n",
       "</style>\n",
       "<table border=\"1\" class=\"dataframe\">\n",
       "  <thead>\n",
       "    <tr style=\"text-align: right;\">\n",
       "      <th></th>\n",
       "      <th>Purchase</th>\n",
       "      <th>Percent</th>\n",
       "    </tr>\n",
       "    <tr>\n",
       "      <th>Occupation</th>\n",
       "      <th></th>\n",
       "      <th></th>\n",
       "    </tr>\n",
       "  </thead>\n",
       "  <tbody>\n",
       "    <tr>\n",
       "      <th>0</th>\n",
       "      <td>635406958</td>\n",
       "      <td>12.469198</td>\n",
       "    </tr>\n",
       "    <tr>\n",
       "      <th>1</th>\n",
       "      <td>424614144</td>\n",
       "      <td>8.332609</td>\n",
       "    </tr>\n",
       "    <tr>\n",
       "      <th>2</th>\n",
       "      <td>238028583</td>\n",
       "      <td>4.671062</td>\n",
       "    </tr>\n",
       "    <tr>\n",
       "      <th>3</th>\n",
       "      <td>162002168</td>\n",
       "      <td>3.179123</td>\n",
       "    </tr>\n",
       "    <tr>\n",
       "      <th>4</th>\n",
       "      <td>666244484</td>\n",
       "      <td>13.074352</td>\n",
       "    </tr>\n",
       "    <tr>\n",
       "      <th>5</th>\n",
       "      <td>113649759</td>\n",
       "      <td>2.230258</td>\n",
       "    </tr>\n",
       "    <tr>\n",
       "      <th>6</th>\n",
       "      <td>188416784</td>\n",
       "      <td>3.697482</td>\n",
       "    </tr>\n",
       "    <tr>\n",
       "      <th>7</th>\n",
       "      <td>557371587</td>\n",
       "      <td>10.937835</td>\n",
       "    </tr>\n",
       "    <tr>\n",
       "      <th>8</th>\n",
       "      <td>14737388</td>\n",
       "      <td>0.289206</td>\n",
       "    </tr>\n",
       "    <tr>\n",
       "      <th>9</th>\n",
       "      <td>54340046</td>\n",
       "      <td>1.066367</td>\n",
       "    </tr>\n",
       "    <tr>\n",
       "      <th>10</th>\n",
       "      <td>115844465</td>\n",
       "      <td>2.273327</td>\n",
       "    </tr>\n",
       "    <tr>\n",
       "      <th>11</th>\n",
       "      <td>106751618</td>\n",
       "      <td>2.094889</td>\n",
       "    </tr>\n",
       "    <tr>\n",
       "      <th>12</th>\n",
       "      <td>305449446</td>\n",
       "      <td>5.994126</td>\n",
       "    </tr>\n",
       "    <tr>\n",
       "      <th>13</th>\n",
       "      <td>71919481</td>\n",
       "      <td>1.411345</td>\n",
       "    </tr>\n",
       "    <tr>\n",
       "      <th>14</th>\n",
       "      <td>259454692</td>\n",
       "      <td>5.091527</td>\n",
       "    </tr>\n",
       "    <tr>\n",
       "      <th>15</th>\n",
       "      <td>118960211</td>\n",
       "      <td>2.334470</td>\n",
       "    </tr>\n",
       "    <tr>\n",
       "      <th>16</th>\n",
       "      <td>238346955</td>\n",
       "      <td>4.677310</td>\n",
       "    </tr>\n",
       "    <tr>\n",
       "      <th>17</th>\n",
       "      <td>393281453</td>\n",
       "      <td>7.717738</td>\n",
       "    </tr>\n",
       "    <tr>\n",
       "      <th>18</th>\n",
       "      <td>60721461</td>\n",
       "      <td>1.191595</td>\n",
       "    </tr>\n",
       "    <tr>\n",
       "      <th>19</th>\n",
       "      <td>73700617</td>\n",
       "      <td>1.446298</td>\n",
       "    </tr>\n",
       "    <tr>\n",
       "      <th>20</th>\n",
       "      <td>296570442</td>\n",
       "      <td>5.819885</td>\n",
       "    </tr>\n",
       "  </tbody>\n",
       "</table>\n",
       "</div>"
      ],
      "text/plain": [
       "             Purchase    Percent\n",
       "Occupation                      \n",
       "0           635406958  12.469198\n",
       "1           424614144   8.332609\n",
       "2           238028583   4.671062\n",
       "3           162002168   3.179123\n",
       "4           666244484  13.074352\n",
       "5           113649759   2.230258\n",
       "6           188416784   3.697482\n",
       "7           557371587  10.937835\n",
       "8            14737388   0.289206\n",
       "9            54340046   1.066367\n",
       "10          115844465   2.273327\n",
       "11          106751618   2.094889\n",
       "12          305449446   5.994126\n",
       "13           71919481   1.411345\n",
       "14          259454692   5.091527\n",
       "15          118960211   2.334470\n",
       "16          238346955   4.677310\n",
       "17          393281453   7.717738\n",
       "18           60721461   1.191595\n",
       "19           73700617   1.446298\n",
       "20          296570442   5.819885"
      ]
     },
     "execution_count": 21,
     "metadata": {},
     "output_type": "execute_result"
    }
   ],
   "source": [
    "#Checking how purchase value are spread among differnt occupation categories\n",
    "wm=pd.DataFrame(walmart.groupby(['Occupation'])[['Purchase']].sum())\n",
    "\n",
    "wm['Percent'] = (wm['Purchase']/wm['Purchase'].sum())*100\n",
    "wm"
   ]
  },
  {
   "cell_type": "markdown",
   "id": "af1364bb",
   "metadata": {},
   "source": [
    "Observations: Some of the Occupation like 0, 4, 7 has contributed more towards total purchase amount."
   ]
  },
  {
   "cell_type": "code",
   "execution_count": 22,
   "id": "67375ba8",
   "metadata": {},
   "outputs": [
    {
     "data": {
      "text/html": [
       "<div>\n",
       "<style scoped>\n",
       "    .dataframe tbody tr th:only-of-type {\n",
       "        vertical-align: middle;\n",
       "    }\n",
       "\n",
       "    .dataframe tbody tr th {\n",
       "        vertical-align: top;\n",
       "    }\n",
       "\n",
       "    .dataframe thead th {\n",
       "        text-align: right;\n",
       "    }\n",
       "</style>\n",
       "<table border=\"1\" class=\"dataframe\">\n",
       "  <thead>\n",
       "    <tr style=\"text-align: right;\">\n",
       "      <th></th>\n",
       "      <th>Purchase</th>\n",
       "      <th>Percent</th>\n",
       "    </tr>\n",
       "    <tr>\n",
       "      <th>Product_Category</th>\n",
       "      <th></th>\n",
       "      <th></th>\n",
       "    </tr>\n",
       "  </thead>\n",
       "  <tbody>\n",
       "    <tr>\n",
       "      <th>1</th>\n",
       "      <td>1910013754</td>\n",
       "      <td>37.482024</td>\n",
       "    </tr>\n",
       "    <tr>\n",
       "      <th>2</th>\n",
       "      <td>268516186</td>\n",
       "      <td>5.269350</td>\n",
       "    </tr>\n",
       "    <tr>\n",
       "      <th>3</th>\n",
       "      <td>204084713</td>\n",
       "      <td>4.004949</td>\n",
       "    </tr>\n",
       "    <tr>\n",
       "      <th>4</th>\n",
       "      <td>27380488</td>\n",
       "      <td>0.537313</td>\n",
       "    </tr>\n",
       "    <tr>\n",
       "      <th>5</th>\n",
       "      <td>941835229</td>\n",
       "      <td>18.482532</td>\n",
       "    </tr>\n",
       "    <tr>\n",
       "      <th>6</th>\n",
       "      <td>324150302</td>\n",
       "      <td>6.361111</td>\n",
       "    </tr>\n",
       "    <tr>\n",
       "      <th>7</th>\n",
       "      <td>60896731</td>\n",
       "      <td>1.195035</td>\n",
       "    </tr>\n",
       "    <tr>\n",
       "      <th>8</th>\n",
       "      <td>854318799</td>\n",
       "      <td>16.765114</td>\n",
       "    </tr>\n",
       "    <tr>\n",
       "      <th>9</th>\n",
       "      <td>6370324</td>\n",
       "      <td>0.125011</td>\n",
       "    </tr>\n",
       "    <tr>\n",
       "      <th>10</th>\n",
       "      <td>100837301</td>\n",
       "      <td>1.978827</td>\n",
       "    </tr>\n",
       "    <tr>\n",
       "      <th>11</th>\n",
       "      <td>113791115</td>\n",
       "      <td>2.233032</td>\n",
       "    </tr>\n",
       "    <tr>\n",
       "      <th>12</th>\n",
       "      <td>5331844</td>\n",
       "      <td>0.104632</td>\n",
       "    </tr>\n",
       "    <tr>\n",
       "      <th>13</th>\n",
       "      <td>4008601</td>\n",
       "      <td>0.078665</td>\n",
       "    </tr>\n",
       "    <tr>\n",
       "      <th>14</th>\n",
       "      <td>20014696</td>\n",
       "      <td>0.392767</td>\n",
       "    </tr>\n",
       "    <tr>\n",
       "      <th>15</th>\n",
       "      <td>92969042</td>\n",
       "      <td>1.824420</td>\n",
       "    </tr>\n",
       "    <tr>\n",
       "      <th>16</th>\n",
       "      <td>145120612</td>\n",
       "      <td>2.847840</td>\n",
       "    </tr>\n",
       "    <tr>\n",
       "      <th>17</th>\n",
       "      <td>5878699</td>\n",
       "      <td>0.115363</td>\n",
       "    </tr>\n",
       "    <tr>\n",
       "      <th>18</th>\n",
       "      <td>9290201</td>\n",
       "      <td>0.182310</td>\n",
       "    </tr>\n",
       "    <tr>\n",
       "      <th>19</th>\n",
       "      <td>59378</td>\n",
       "      <td>0.001165</td>\n",
       "    </tr>\n",
       "    <tr>\n",
       "      <th>20</th>\n",
       "      <td>944727</td>\n",
       "      <td>0.018539</td>\n",
       "    </tr>\n",
       "  </tbody>\n",
       "</table>\n",
       "</div>"
      ],
      "text/plain": [
       "                    Purchase    Percent\n",
       "Product_Category                       \n",
       "1                 1910013754  37.482024\n",
       "2                  268516186   5.269350\n",
       "3                  204084713   4.004949\n",
       "4                   27380488   0.537313\n",
       "5                  941835229  18.482532\n",
       "6                  324150302   6.361111\n",
       "7                   60896731   1.195035\n",
       "8                  854318799  16.765114\n",
       "9                    6370324   0.125011\n",
       "10                 100837301   1.978827\n",
       "11                 113791115   2.233032\n",
       "12                   5331844   0.104632\n",
       "13                   4008601   0.078665\n",
       "14                  20014696   0.392767\n",
       "15                  92969042   1.824420\n",
       "16                 145120612   2.847840\n",
       "17                   5878699   0.115363\n",
       "18                   9290201   0.182310\n",
       "19                     59378   0.001165\n",
       "20                    944727   0.018539"
      ]
     },
     "execution_count": 22,
     "metadata": {},
     "output_type": "execute_result"
    }
   ],
   "source": [
    "#Checking how purchase value are spread among differnt product categories\n",
    "wm=pd.DataFrame(walmart.groupby(['Product_Category'])[['Purchase']].sum())\n",
    "\n",
    "wm['Percent'] = (wm['Purchase']/wm['Purchase'].sum())*100\n",
    "wm"
   ]
  },
  {
   "cell_type": "markdown",
   "id": "50f56bd6",
   "metadata": {},
   "source": [
    "Observations: 1, 8, 5 are among the highest yielding product categories and 19, 20, 13 are among the lowest in terms of their contribution to total amount."
   ]
  },
  {
   "cell_type": "code",
   "execution_count": 23,
   "id": "2e3ea7a6",
   "metadata": {},
   "outputs": [
    {
     "data": {
      "text/html": [
       "<div>\n",
       "<style scoped>\n",
       "    .dataframe tbody tr th:only-of-type {\n",
       "        vertical-align: middle;\n",
       "    }\n",
       "\n",
       "    .dataframe tbody tr th {\n",
       "        vertical-align: top;\n",
       "    }\n",
       "\n",
       "    .dataframe thead th {\n",
       "        text-align: right;\n",
       "    }\n",
       "</style>\n",
       "<table border=\"1\" class=\"dataframe\">\n",
       "  <thead>\n",
       "    <tr style=\"text-align: right;\">\n",
       "      <th></th>\n",
       "      <th>Purchase</th>\n",
       "      <th>Percent</th>\n",
       "    </tr>\n",
       "    <tr>\n",
       "      <th>Stay_In_Current_City_Years</th>\n",
       "      <th></th>\n",
       "      <th></th>\n",
       "    </tr>\n",
       "  </thead>\n",
       "  <tbody>\n",
       "    <tr>\n",
       "      <th>0</th>\n",
       "      <td>682979229</td>\n",
       "      <td>13.402754</td>\n",
       "    </tr>\n",
       "    <tr>\n",
       "      <th>1</th>\n",
       "      <td>1792872533</td>\n",
       "      <td>35.183250</td>\n",
       "    </tr>\n",
       "    <tr>\n",
       "      <th>2</th>\n",
       "      <td>949173931</td>\n",
       "      <td>18.626547</td>\n",
       "    </tr>\n",
       "    <tr>\n",
       "      <th>3</th>\n",
       "      <td>884902659</td>\n",
       "      <td>17.365290</td>\n",
       "    </tr>\n",
       "    <tr>\n",
       "      <th>4+</th>\n",
       "      <td>785884390</td>\n",
       "      <td>15.422160</td>\n",
       "    </tr>\n",
       "  </tbody>\n",
       "</table>\n",
       "</div>"
      ],
      "text/plain": [
       "                              Purchase    Percent\n",
       "Stay_In_Current_City_Years                       \n",
       "0                            682979229  13.402754\n",
       "1                           1792872533  35.183250\n",
       "2                            949173931  18.626547\n",
       "3                            884902659  17.365290\n",
       "4+                           785884390  15.422160"
      ]
     },
     "execution_count": 23,
     "metadata": {},
     "output_type": "execute_result"
    }
   ],
   "source": [
    "wm=pd.DataFrame(walmart.groupby(['Stay_In_Current_City_Years'])[['Purchase']].sum())\n",
    "\n",
    "wm['Percent'] = (wm['Purchase']/wm['Purchase'].sum())*100\n",
    "wm"
   ]
  },
  {
   "cell_type": "markdown",
   "id": "dbe6a1c1",
   "metadata": {},
   "source": [
    "#### Univariate Analysis:\n",
    "\n",
    "We can explore the distribution of the data for the quantitative attributes using histplot.\n",
    "\n"
   ]
  },
  {
   "cell_type": "code",
   "execution_count": 24,
   "id": "a36b8c9b",
   "metadata": {},
   "outputs": [
    {
     "data": {
      "image/png": "[encoded data removed]",
      "text/plain": [
       "<Figure size 720x432 with 1 Axes>"
      ]
     },
     "metadata": {
      "needs_background": "light"
     },
     "output_type": "display_data"
    }
   ],
   "source": [
    "plt.figure(figsize=(10, 6))\n",
    "sns.histplot(data=walmart, x=\"Purchase\", kde=True)\n",
    "plt.show()"
   ]
  },
  {
   "cell_type": "markdown",
   "id": "4294aad2",
   "metadata": {},
   "source": [
    "Observation: We can see purchase value between 5000 and 10000 have higher count. From the initial observation we have already seen the mean and median is 9263 and 8047 respectively. Also, we can see there are outliers in the data."
   ]
  },
  {
   "cell_type": "code",
   "execution_count": 25,
   "id": "a97b11d5",
   "metadata": {},
   "outputs": [
    {
     "data": {
      "image/png": "[encoded data removed]",
      "text/plain": [
       "<Figure size 288x576 with 1 Axes>"
      ]
     },
     "metadata": {
      "needs_background": "light"
     },
     "output_type": "display_data"
    }
   ],
   "source": [
    "plt.figure(figsize=(4, 8))\n",
    "sns.boxplot(data=walmart, y='Purchase')\n",
    "plt.show()"
   ]
  },
  {
   "cell_type": "markdown",
   "id": "96ea3666",
   "metadata": {},
   "source": [
    "Observation: We can see there are outliers in the data for purchase."
   ]
  },
  {
   "cell_type": "markdown",
   "id": "f09a76a7",
   "metadata": {},
   "source": [
    "##### Univariate analysis for qualitative variables:"
   ]
  },
  {
   "cell_type": "code",
   "execution_count": 26,
   "id": "a16ed555",
   "metadata": {},
   "outputs": [
    {
     "data": {
      "image/png": "[encoded data removed]",
      "text/plain": [
       "<Figure size 1080x864 with 4 Axes>"
      ]
     },
     "metadata": {
      "needs_background": "light"
     },
     "output_type": "display_data"
    }
   ],
   "source": [
    "fig, axs = plt.subplots(nrows=2, ncols=2, figsize=(15, 12))\n",
    "sns.countplot(data=walmart, x='Gender', ax=axs[0,0])\n",
    "sns.countplot(data=walmart, x='Occupation', ax=axs[0,1])\n",
    "sns.countplot(data=walmart, x='City_Category', ax=axs[1,0])\n",
    "sns.countplot(data=walmart, x='Marital_Status', ax=axs[1,1])\n",
    "plt.show()"
   ]
  },
  {
   "cell_type": "markdown",
   "id": "b55ec796",
   "metadata": {},
   "source": [
    "Observations:\n",
    "1. We can clearly see from the graphs above the purchases done by males are much higher than females.\n",
    "2. We have 21 occupations categories. Occupation category 4, 0, and 7 are with higher number of purchases and category 8 with the lowest number of purchaes.\n",
    "3. The purchases are highest from City category B.\n",
    "4. Single customer purchases are higher than married users."
   ]
  },
  {
   "cell_type": "code",
   "execution_count": 27,
   "id": "c6baeb29",
   "metadata": {},
   "outputs": [
    {
     "data": {
      "image/png": "[encoded data removed]",
      "text/plain": [
       "<Figure size 864x432 with 1 Axes>"
      ]
     },
     "metadata": {
      "needs_background": "light"
     },
     "output_type": "display_data"
    }
   ],
   "source": [
    "plt.figure(figsize=(12, 6))\n",
    "sns.countplot(data=walmart, x='Product_Category')\n",
    "plt.show()"
   ]
  },
  {
   "cell_type": "markdown",
   "id": "0558c661",
   "metadata": {},
   "source": [
    "Observations: There are 20 product categories with product category 1, 5 and  8 having higher purchasing frequency."
   ]
  },
  {
   "cell_type": "markdown",
   "id": "9ab96220",
   "metadata": {},
   "source": [
    "#### Bivariate Analysis:"
   ]
  },
  {
   "cell_type": "code",
   "execution_count": 28,
   "id": "9875b561",
   "metadata": {},
   "outputs": [
    {
     "data": {
      "image/png": "[encoded data removed]",
      "text/plain": [
       "<Figure size 1152x432 with 2 Axes>"
      ]
     },
     "metadata": {
      "needs_background": "light"
     },
     "output_type": "display_data"
    }
   ],
   "source": [
    "fig, axs = plt.subplots(nrows=1, ncols=2, figsize=(16,6))\n",
    "sns.histplot(data=walmart[walmart['Gender']=='M']['Purchase'], ax=axs[0]).set_title(\"Male Spending \")\n",
    "sns.histplot(data=walmart[walmart['Gender']=='F']['Purchase'], ax=axs[1]).set_title(\"Female Spending\")\n",
    "plt.show()"
   ]
  },
  {
   "cell_type": "markdown",
   "id": "d4933b4d",
   "metadata": {},
   "source": [
    "Observations: From the above histplot, we can clearly see spending behaviour is very much similar in nature for both males and females as the maximum purchase count are between the purchase value range of 5000-10000 for both. But, the purchase count are more in case of males."
   ]
  },
  {
   "cell_type": "code",
   "execution_count": 29,
   "id": "08e0f7ac",
   "metadata": {},
   "outputs": [
    {
     "data": {
      "image/png": "[encoded data removed]",
      "text/plain": [
       "<Figure size 1080x720 with 6 Axes>"
      ]
     },
     "metadata": {
      "needs_background": "light"
     },
     "output_type": "display_data"
    },
    {
     "data": {
      "image/png": "[encoded data removed]",
      "text/plain": [
       "<Figure size 504x360 with 1 Axes>"
      ]
     },
     "metadata": {
      "needs_background": "light"
     },
     "output_type": "display_data"
    }
   ],
   "source": [
    "df = ['Gender', 'Age', 'Occupation', 'City_Category', 'Stay_In_Current_City_Years', 'Marital_Status']\n",
    "\n",
    "fig, axs = plt.subplots(nrows=3, ncols=2, figsize=(15, 10))\n",
    "fig.subplots_adjust(top=1.3)\n",
    "count = 0\n",
    "for row in range(3):\n",
    "    for col in range(2):\n",
    "        sns.boxplot(data=walmart, y='Purchase', x=df[count], ax=axs[row, col],)\n",
    "        axs[row,col].set_title(f\"Purchase vs {df[count]}\")\n",
    "        count += 1\n",
    "plt.show()\n",
    "\n",
    "plt.figure(figsize=(7, 5))\n",
    "sns.boxplot(data=walmart, y='Purchase', x='Product_Category')\n",
    "plt.show()"
   ]
  },
  {
   "cell_type": "markdown",
   "id": "6d79cf6c",
   "metadata": {},
   "source": [
    "Observations:\n",
    "1. The spending behaviour for males and females are similar as we had seen from the above histplot. Males purchasing value are in the little higher range than females.\n",
    "2. Among differnt age categories, we see similar purchase behaviour. For all age groups, most of the purchases are of the values between 5k to 12k with all have some outliers.\n",
    "3. Among different occupation as well, we see similar purchasing behaviour in terms of the purchase values.\n",
    "4. Similarly for City category, stay in current city years, marital status - we see the users spends mostly in the range of 5k to 12k.\n",
    "5. We see variations among product categories. Product category 10 products are the costliest ones. Also, there are few outliers for some of the product categories."
   ]
  },
  {
   "cell_type": "markdown",
   "id": "abd8d0d2",
   "metadata": {},
   "source": [
    "#### Multivariate analysis:"
   ]
  },
  {
   "cell_type": "code",
   "execution_count": 30,
   "id": "8ed97c39",
   "metadata": {},
   "outputs": [
    {
     "data": {
      "image/png": "[encoded data removed]",
      "text/plain": [
       "<Figure size 1080x432 with 4 Axes>"
      ]
     },
     "metadata": {
      "needs_background": "light"
     },
     "output_type": "display_data"
    }
   ],
   "source": [
    "fig, axs = plt.subplots(nrows=2, ncols=2, figsize=(15, 6))\n",
    "fig.subplots_adjust(top=1.5)\n",
    "sns.boxplot(data=walmart, y='Purchase', x='Gender', hue='Age', ax=axs[0,0])\n",
    "sns.boxplot(data=walmart, y='Purchase', x='Gender', hue='City_Category', ax=axs[0,1])\n",
    "\n",
    "sns.boxplot(data=walmart, y='Purchase', x='Gender', hue='Marital_Status', ax=axs[1,0])\n",
    "sns.boxplot(data=walmart, y='Purchase', x='Gender', hue='Stay_In_Current_City_Years', ax=axs[1,1])\n",
    "\n",
    "plt.show()"
   ]
  },
  {
   "cell_type": "markdown",
   "id": "95742a13",
   "metadata": {},
   "source": [
    "Observations:\n",
    "1. The purchasing pattern is very much similar for males and females even among differnt age groups.\n",
    "2. The purchasing behaviour of males and females basis different citi categories is also similar in nature. Still,  males from city category B tends to purchase costlier products in comparison to females.\n",
    "3. Males and females spending behaviour remains similar even when take into account their marital status.\n",
    "4. Purchase values are similar for males and females basis Stay_in_current_city_years. Although, Males buy slightly high value products."
   ]
  },
  {
   "cell_type": "markdown",
   "id": "80085b84",
   "metadata": {},
   "source": [
    "##### Average amount spend per males and females:"
   ]
  },
  {
   "cell_type": "code",
   "execution_count": 31,
   "id": "4565fd47",
   "metadata": {},
   "outputs": [
    {
     "data": {
      "text/html": [
       "<div>\n",
       "<style scoped>\n",
       "    .dataframe tbody tr th:only-of-type {\n",
       "        vertical-align: middle;\n",
       "    }\n",
       "\n",
       "    .dataframe tbody tr th {\n",
       "        vertical-align: top;\n",
       "    }\n",
       "\n",
       "    .dataframe thead th {\n",
       "        text-align: right;\n",
       "    }\n",
       "</style>\n",
       "<table border=\"1\" class=\"dataframe\">\n",
       "  <thead>\n",
       "    <tr style=\"text-align: right;\">\n",
       "      <th></th>\n",
       "      <th>User_ID</th>\n",
       "      <th>Gender</th>\n",
       "      <th>Purchase</th>\n",
       "    </tr>\n",
       "  </thead>\n",
       "  <tbody>\n",
       "    <tr>\n",
       "      <th>0</th>\n",
       "      <td>1000001</td>\n",
       "      <td>F</td>\n",
       "      <td>334093</td>\n",
       "    </tr>\n",
       "    <tr>\n",
       "      <th>1</th>\n",
       "      <td>1000002</td>\n",
       "      <td>M</td>\n",
       "      <td>810472</td>\n",
       "    </tr>\n",
       "    <tr>\n",
       "      <th>2</th>\n",
       "      <td>1000003</td>\n",
       "      <td>M</td>\n",
       "      <td>341635</td>\n",
       "    </tr>\n",
       "    <tr>\n",
       "      <th>3</th>\n",
       "      <td>1000004</td>\n",
       "      <td>M</td>\n",
       "      <td>206468</td>\n",
       "    </tr>\n",
       "    <tr>\n",
       "      <th>4</th>\n",
       "      <td>1000005</td>\n",
       "      <td>M</td>\n",
       "      <td>821001</td>\n",
       "    </tr>\n",
       "    <tr>\n",
       "      <th>...</th>\n",
       "      <td>...</td>\n",
       "      <td>...</td>\n",
       "      <td>...</td>\n",
       "    </tr>\n",
       "    <tr>\n",
       "      <th>5886</th>\n",
       "      <td>1006036</td>\n",
       "      <td>F</td>\n",
       "      <td>4116058</td>\n",
       "    </tr>\n",
       "    <tr>\n",
       "      <th>5887</th>\n",
       "      <td>1006037</td>\n",
       "      <td>F</td>\n",
       "      <td>1119538</td>\n",
       "    </tr>\n",
       "    <tr>\n",
       "      <th>5888</th>\n",
       "      <td>1006038</td>\n",
       "      <td>F</td>\n",
       "      <td>90034</td>\n",
       "    </tr>\n",
       "    <tr>\n",
       "      <th>5889</th>\n",
       "      <td>1006039</td>\n",
       "      <td>F</td>\n",
       "      <td>590319</td>\n",
       "    </tr>\n",
       "    <tr>\n",
       "      <th>5890</th>\n",
       "      <td>1006040</td>\n",
       "      <td>M</td>\n",
       "      <td>1653299</td>\n",
       "    </tr>\n",
       "  </tbody>\n",
       "</table>\n",
       "<p>5891 rows × 3 columns</p>\n",
       "</div>"
      ],
      "text/plain": [
       "      User_ID Gender  Purchase\n",
       "0     1000001      F    334093\n",
       "1     1000002      M    810472\n",
       "2     1000003      M    341635\n",
       "3     1000004      M    206468\n",
       "4     1000005      M    821001\n",
       "...       ...    ...       ...\n",
       "5886  1006036      F   4116058\n",
       "5887  1006037      F   1119538\n",
       "5888  1006038      F     90034\n",
       "5889  1006039      F    590319\n",
       "5890  1006040      M   1653299\n",
       "\n",
       "[5891 rows x 3 columns]"
      ]
     },
     "execution_count": 31,
     "metadata": {},
     "output_type": "execute_result"
    }
   ],
   "source": [
    "gender_avg = walmart.groupby(['User_ID', 'Gender'])[['Purchase']].sum()\n",
    "gender_avg = gender_avg.reset_index()\n",
    "gender_avg"
   ]
  },
  {
   "cell_type": "code",
   "execution_count": 32,
   "id": "ccc1635a",
   "metadata": {},
   "outputs": [
    {
     "data": {
      "text/plain": [
       "M    4225\n",
       "F    1666\n",
       "Name: Gender, dtype: int64"
      ]
     },
     "execution_count": 32,
     "metadata": {},
     "output_type": "execute_result"
    }
   ],
   "source": [
    "# Gender wise count in the entire data\n",
    "gender_avg['Gender'].value_counts()"
   ]
  },
  {
   "cell_type": "code",
   "execution_count": 33,
   "id": "7427fe93",
   "metadata": {},
   "outputs": [
    {
     "data": {
      "text/plain": [
       "Text(0.5, 1.0, 'Males Avg Spend')"
      ]
     },
     "execution_count": 33,
     "metadata": {},
     "output_type": "execute_result"
    },
    {
     "data": {
      "image/png": "[encoded data removed]",
      "text/plain": [
       "<Figure size 1152x432 with 2 Axes>"
      ]
     },
     "metadata": {
      "needs_background": "light"
     },
     "output_type": "display_data"
    }
   ],
   "source": [
    "fig, axs = plt.subplots(nrows=1, ncols=2, figsize=(16,6))\n",
    "sns.histplot(data=gender_avg[gender_avg['Gender']=='F']['Purchase'], ax=axs[0]).set_title(\"Females Avg Spend\")\n",
    "sns.histplot(data=gender_avg[gender_avg['Gender']=='M']['Purchase'], ax=axs[1]).set_title(\"Males Avg Spend\")"
   ]
  },
  {
   "cell_type": "markdown",
   "id": "2d4dc908",
   "metadata": {},
   "source": [
    "Observations: Average amount spend by males are higher than females."
   ]
  },
  {
   "cell_type": "code",
   "execution_count": 34,
   "id": "8717fd51",
   "metadata": {},
   "outputs": [
    {
     "data": {
      "text/html": [
       "<div>\n",
       "<style scoped>\n",
       "    .dataframe tbody tr th:only-of-type {\n",
       "        vertical-align: middle;\n",
       "    }\n",
       "\n",
       "    .dataframe tbody tr th {\n",
       "        vertical-align: top;\n",
       "    }\n",
       "\n",
       "    .dataframe thead th {\n",
       "        text-align: right;\n",
       "    }\n",
       "</style>\n",
       "<table border=\"1\" class=\"dataframe\">\n",
       "  <thead>\n",
       "    <tr style=\"text-align: right;\">\n",
       "      <th></th>\n",
       "      <th>Purchase</th>\n",
       "    </tr>\n",
       "    <tr>\n",
       "      <th>Gender</th>\n",
       "      <th></th>\n",
       "    </tr>\n",
       "  </thead>\n",
       "  <tbody>\n",
       "    <tr>\n",
       "      <th>F</th>\n",
       "      <td>712024.394958</td>\n",
       "    </tr>\n",
       "    <tr>\n",
       "      <th>M</th>\n",
       "      <td>925344.402367</td>\n",
       "    </tr>\n",
       "  </tbody>\n",
       "</table>\n",
       "</div>"
      ],
      "text/plain": [
       "             Purchase\n",
       "Gender               \n",
       "F       712024.394958\n",
       "M       925344.402367"
      ]
     },
     "execution_count": 34,
     "metadata": {},
     "output_type": "execute_result"
    }
   ],
   "source": [
    "gender_avg.groupby(['Gender'])[['Purchase']].mean()"
   ]
  },
  {
   "cell_type": "code",
   "execution_count": 35,
   "id": "cca3da2a",
   "metadata": {},
   "outputs": [
    {
     "data": {
      "text/html": [
       "<div>\n",
       "<style scoped>\n",
       "    .dataframe tbody tr th:only-of-type {\n",
       "        vertical-align: middle;\n",
       "    }\n",
       "\n",
       "    .dataframe tbody tr th {\n",
       "        vertical-align: top;\n",
       "    }\n",
       "\n",
       "    .dataframe thead th {\n",
       "        text-align: right;\n",
       "    }\n",
       "</style>\n",
       "<table border=\"1\" class=\"dataframe\">\n",
       "  <thead>\n",
       "    <tr style=\"text-align: right;\">\n",
       "      <th></th>\n",
       "      <th>Purchase</th>\n",
       "    </tr>\n",
       "    <tr>\n",
       "      <th>Gender</th>\n",
       "      <th></th>\n",
       "    </tr>\n",
       "  </thead>\n",
       "  <tbody>\n",
       "    <tr>\n",
       "      <th>F</th>\n",
       "      <td>1186232642</td>\n",
       "    </tr>\n",
       "    <tr>\n",
       "      <th>M</th>\n",
       "      <td>3909580100</td>\n",
       "    </tr>\n",
       "  </tbody>\n",
       "</table>\n",
       "</div>"
      ],
      "text/plain": [
       "          Purchase\n",
       "Gender            \n",
       "F       1186232642\n",
       "M       3909580100"
      ]
     },
     "execution_count": 35,
     "metadata": {},
     "output_type": "execute_result"
    }
   ],
   "source": [
    "gender_avg.groupby(['Gender'])[['Purchase']].sum()"
   ]
  },
  {
   "cell_type": "markdown",
   "id": "b7740f88",
   "metadata": {},
   "source": [
    "Observations:\n",
    "1. Average amount for the males is 925344 for the entire population whereas it's much lesser for females(712024).\n",
    "2. Total amount spend by males is around 4 billion whereas for females it's 1.2 billion. "
   ]
  },
  {
   "cell_type": "code",
   "execution_count": 36,
   "id": "7e9090ad",
   "metadata": {},
   "outputs": [],
   "source": [
    "male_avg = gender_avg[gender_avg['Gender']=='M']\n",
    "female_avg = gender_avg[gender_avg['Gender']=='F']"
   ]
  },
  {
   "cell_type": "code",
   "execution_count": 37,
   "id": "f50b176f",
   "metadata": {},
   "outputs": [],
   "source": [
    "#Finding the sample(sample size=1000) for avg purchase amount for males and females \n",
    "genders = [\"M\", \"F\"]\n",
    "\n",
    "sample_size = 1000\n",
    "\n",
    "num_repitions = 1000\n",
    "male_means = []\n",
    "female_means = []\n",
    "\n",
    "for i in range(num_repitions):\n",
    "    male_mean = male_avg.sample(sample_size, replace=True)['Purchase'].mean()\n",
    "    female_mean = female_avg.sample(sample_size, replace=True)['Purchase'].mean()\n",
    "    \n",
    "    male_means.append(male_mean)\n",
    "    female_means.append(female_mean)"
   ]
  },
  {
   "cell_type": "code",
   "execution_count": 38,
   "id": "b0ccb53b",
   "metadata": {},
   "outputs": [
    {
     "data": {
      "image/png": "[encoded data removed]",
      "text/plain": [
       "<Figure size 1152x432 with 2 Axes>"
      ]
     },
     "metadata": {
      "needs_background": "light"
     },
     "output_type": "display_data"
    }
   ],
   "source": [
    "fig, axis = plt.subplots(nrows=1, ncols=2, figsize=(16, 6))\n",
    "\n",
    "axis[0].hist(male_means, bins=35)\n",
    "axis[1].hist(female_means, bins=35)\n",
    "axis[0].set_title(\"Male distribution of means, Sample size: 1000\")\n",
    "axis[1].set_title(\"Female distribution of means, Sample size: 1000\")\n",
    "\n",
    "plt.show()"
   ]
  },
  {
   "cell_type": "markdown",
   "id": "49e22897",
   "metadata": {},
   "source": [
    "Observations: The means sample seems to be normally distributed for both males and females. Also, we can see the mean of the sample means are closer to the population mean as per central limit theorem. "
   ]
  },
  {
   "cell_type": "code",
   "execution_count": 39,
   "id": "7c3632ea",
   "metadata": {},
   "outputs": [
    {
     "name": "stdout",
     "output_type": "stream",
     "text": [
      "Population avg spend amount for Male: 925344.40\n",
      "Population avg spend amount for Female: 712024.39\n",
      "\n",
      "Sample avg spend amount for Male: 925368.61\n",
      "Sample avg spend amount for Female: 711268.50\n",
      "\n",
      "Sample std for Male: 31391.18\n",
      "Sample std for Female: 25556.17\n",
      "\n",
      "Sample std error for Male: 992.68\n",
      "Sample std error for Female: 808.16\n",
      "\n",
      "Male_CI:  [923735.6574019564, 927001.5624440438]\n",
      "Female_CI:  [709939.0780594031, 712597.9146865966]\n"
     ]
    }
   ],
   "source": [
    "#Calculating 90% confidence interval for sample size 1000:\n",
    "\n",
    "#Taking the values for z at 90%, 95% and 99% confidence interval as:\n",
    "z90=1.645 #90% Confidence Interval\n",
    "z95=1.960 #95% Confidence Interval\n",
    "z99=2.576 #99% Confidence Interval\n",
    "\n",
    "print(\"Population avg spend amount for Male: {:.2f}\".format(male_avg['Purchase'].mean()))\n",
    "print(\"Population avg spend amount for Female: {:.2f}\\n\".format(female_avg['Purchase'].mean()))\n",
    "\n",
    "print(\"Sample avg spend amount for Male: {:.2f}\".format(np.mean(male_means)))\n",
    "print(\"Sample avg spend amount for Female: {:.2f}\\n\".format(np.mean(female_means)))\n",
    "\n",
    "print(\"Sample std for Male: {:.2f}\".format(pd.Series(male_means).std()))\n",
    "print(\"Sample std for Female: {:.2f}\\n\".format(pd.Series(female_means).std()))\n",
    "\n",
    "print(\"Sample std error for Male: {:.2f}\".format(pd.Series(male_means).std()/np.sqrt(1000))) \n",
    "print(\"Sample std error for Female: {:.2f}\\n\".format(pd.Series(female_means).std()/np.sqrt(1000)))\n",
    "\n",
    "sample_mean_male=np.mean(male_means)\n",
    "sample_mean_female=np.mean(female_means)\n",
    "\n",
    "sample_std_male=pd.Series(male_means).std()\n",
    "sample_std_female=pd.Series(female_means).std()\n",
    "\n",
    "sample_std_error_male=sample_std_male/np.sqrt(1000)\n",
    "sample_std_error_female=sample_std_female/np.sqrt(1000)\n",
    "\n",
    "Upper_Limit_male=z90*sample_std_error_male + sample_mean_male\n",
    "Lower_Limit_male=sample_mean_male - z90*sample_std_error_male\n",
    "\n",
    "Upper_Limit_female=z90*sample_std_error_female + sample_mean_female\n",
    "Lower_Limit_female=sample_mean_female - z90*sample_std_error_female\n",
    "\n",
    "print(\"Male_CI: \",[Lower_Limit_male,Upper_Limit_male])\n",
    "print(\"Female_CI: \",[Lower_Limit_female,Upper_Limit_female])\n"
   ]
  },
  {
   "cell_type": "markdown",
   "id": "a1b519fe",
   "metadata": {},
   "source": [
    "Observation:\n",
    "Now using the Confidence interval at 90%, we can say that:\n",
    "* Average amount spend by male customers lie in the range 9,24,412.29 - 9,27,754.50\n",
    "* Average amount spend by female customers lie in range 7,11,369.95 - 7,14,068.06"
   ]
  },
  {
   "cell_type": "code",
   "execution_count": 40,
   "id": "9d6386f8",
   "metadata": {},
   "outputs": [
    {
     "name": "stdout",
     "output_type": "stream",
     "text": [
      "Population avg spend amount for Male: 925344.40\n",
      "Population avg spend amount for Female: 712024.39\n",
      "\n",
      "Sample avg spend amount for Male: 925368.61\n",
      "Sample avg spend amount for Female: 711268.50\n",
      "\n",
      "Sample std for Male: 31391.18\n",
      "Sample std for Female: 25556.17\n",
      "\n",
      "Sample std error for Male: 992.68\n",
      "Sample std error for Female: 808.16\n",
      "\n",
      "Male_CI:  [923422.9643660119, 927314.2554799883]\n",
      "Female_CI:  [709684.5085950973, 712852.4841509024]\n"
     ]
    }
   ],
   "source": [
    "#Calculating 95% confidence interval for sample size 1000:\n",
    "\n",
    "#Taking the values for z at 90%, 95% and 99% confidence interval as:\n",
    "z90=1.645 #90% Confidence Interval\n",
    "z95=1.960 #95% Confidence Interval\n",
    "z99=2.576 #99% Confidence Interval\n",
    "\n",
    "print(\"Population avg spend amount for Male: {:.2f}\".format(male_avg['Purchase'].mean()))\n",
    "print(\"Population avg spend amount for Female: {:.2f}\\n\".format(female_avg['Purchase'].mean()))\n",
    "\n",
    "print(\"Sample avg spend amount for Male: {:.2f}\".format(np.mean(male_means)))\n",
    "print(\"Sample avg spend amount for Female: {:.2f}\\n\".format(np.mean(female_means)))\n",
    "\n",
    "print(\"Sample std for Male: {:.2f}\".format(pd.Series(male_means).std()))\n",
    "print(\"Sample std for Female: {:.2f}\\n\".format(pd.Series(female_means).std()))\n",
    "\n",
    "print(\"Sample std error for Male: {:.2f}\".format(pd.Series(male_means).std()/np.sqrt(1000))) \n",
    "print(\"Sample std error for Female: {:.2f}\\n\".format(pd.Series(female_means).std()/np.sqrt(1000)))\n",
    "\n",
    "sample_mean_male=np.mean(male_means)\n",
    "sample_mean_female=np.mean(female_means)\n",
    "\n",
    "sample_std_male=pd.Series(male_means).std()\n",
    "sample_std_female=pd.Series(female_means).std()\n",
    "\n",
    "sample_std_error_male=sample_std_male/np.sqrt(1000)\n",
    "sample_std_error_female=sample_std_female/np.sqrt(1000)\n",
    "\n",
    "Upper_Limit_male=z95*sample_std_error_male + sample_mean_male\n",
    "Lower_Limit_male=sample_mean_male - z95*sample_std_error_male\n",
    "\n",
    "Upper_Limit_female=z95*sample_std_error_female + sample_mean_female\n",
    "Lower_Limit_female=sample_mean_female - z95*sample_std_error_female\n",
    "\n",
    "print(\"Male_CI: \",[Lower_Limit_male,Upper_Limit_male])\n",
    "print(\"Female_CI: \",[Lower_Limit_female,Upper_Limit_female])\n"
   ]
  },
  {
   "cell_type": "markdown",
   "id": "fbaf514b",
   "metadata": {},
   "source": [
    "Observation: Now using the Confidence interval at 95%, we can say that:\n",
    "* Average amount spend by male customers lie in the range 9,24,092.29 - 9,28,074.50\n",
    "* Average amount spend by female customers lie in range 7,11,111.62 - 7,14,326.38"
   ]
  },
  {
   "cell_type": "code",
   "execution_count": 41,
   "id": "d95b7bc4",
   "metadata": {},
   "outputs": [
    {
     "name": "stdout",
     "output_type": "stream",
     "text": [
      "Population avg spend amount for Male: 925344.40\n",
      "Population avg spend amount for Female: 712024.39\n",
      "\n",
      "Sample avg spend amount for Male: 925368.61\n",
      "Sample avg spend amount for Female: 711268.50\n",
      "\n",
      "Sample std for Male: 31391.18\n",
      "Sample std for Female: 25556.17\n",
      "\n",
      "Sample std error for Male: 992.68\n",
      "Sample std error for Female: 808.16\n",
      "\n",
      "Male_CI:  [922811.475762387, 927925.7440836132]\n",
      "Female_CI:  [709186.6838648994, 713350.3088811003]\n"
     ]
    }
   ],
   "source": [
    "#Calculating 99% confidence interval for sample size 1000:\n",
    "\n",
    "#Taking the values for z at 90%, 95% and 99% confidence interval as:\n",
    "z90=1.645 #90% Confidence Interval\n",
    "z95=1.960 #95% Confidence Interval\n",
    "z99=2.576 #99% Confidence Interval\n",
    "\n",
    "print(\"Population avg spend amount for Male: {:.2f}\".format(male_avg['Purchase'].mean()))\n",
    "print(\"Population avg spend amount for Female: {:.2f}\\n\".format(female_avg['Purchase'].mean()))\n",
    "\n",
    "print(\"Sample avg spend amount for Male: {:.2f}\".format(np.mean(male_means)))\n",
    "print(\"Sample avg spend amount for Female: {:.2f}\\n\".format(np.mean(female_means)))\n",
    "\n",
    "print(\"Sample std for Male: {:.2f}\".format(pd.Series(male_means).std()))\n",
    "print(\"Sample std for Female: {:.2f}\\n\".format(pd.Series(female_means).std()))\n",
    "\n",
    "print(\"Sample std error for Male: {:.2f}\".format(pd.Series(male_means).std()/np.sqrt(1000))) \n",
    "print(\"Sample std error for Female: {:.2f}\\n\".format(pd.Series(female_means).std()/np.sqrt(1000)))\n",
    "\n",
    "sample_mean_male=np.mean(male_means)\n",
    "sample_mean_female=np.mean(female_means)\n",
    "\n",
    "sample_std_male=pd.Series(male_means).std()\n",
    "sample_std_female=pd.Series(female_means).std()\n",
    "\n",
    "sample_std_error_male=sample_std_male/np.sqrt(1000)\n",
    "sample_std_error_female=sample_std_female/np.sqrt(1000)\n",
    "\n",
    "Upper_Limit_male=z99*sample_std_error_male + sample_mean_male\n",
    "Lower_Limit_male=sample_mean_male - z99*sample_std_error_male\n",
    "\n",
    "Upper_Limit_female=z99*sample_std_error_female + sample_mean_female\n",
    "Lower_Limit_female=sample_mean_female - z99*sample_std_error_female\n",
    "\n",
    "print(\"Male_CI: \",[Lower_Limit_male,Upper_Limit_male])\n",
    "print(\"Female_CI: \",[Lower_Limit_female,Upper_Limit_female])"
   ]
  },
  {
   "cell_type": "markdown",
   "id": "879a1360",
   "metadata": {},
   "source": [
    "Observation: Now using the Confidence interval at 99%, we can say that:\n",
    "* Average amount spend by male customers lie in the range 9,23,466.52 - 9,28,700.27\n",
    "* Average amount spend by female customers lie in range 7,10,606.4 - 7,14,831.56"
   ]
  },
  {
   "cell_type": "code",
   "execution_count": 42,
   "id": "05db7beb",
   "metadata": {},
   "outputs": [
    {
     "name": "stdout",
     "output_type": "stream",
     "text": [
      "Population avg spend amount for Male: 925344.40\n",
      "Population avg spend amount for Female: 712024.39\n",
      "\n",
      "Sample avg spend amount for Male: 924434.94\n",
      "Sample avg spend amount for Female: 711800.78\n",
      "\n",
      "Sample std for Male: 25708.70\n",
      "Sample std for Female: 21523.71\n",
      "\n",
      "Sample std error for Male: 663.80\n",
      "Sample std error for Female: 555.74\n",
      "\n",
      "Male_CI:  [923342.9961750751, 925526.8845942583]\n",
      "Female_CI:  [710886.5834105526, 712714.9675467805]\n"
     ]
    }
   ],
   "source": [
    "#Calculating 90% confidence interval for sample size 1500:\n",
    "\n",
    "#Finding the sample(sample size=1000) avg purchase amount for males and females \n",
    "genders = [\"M\", \"F\"]\n",
    "\n",
    "sample_size = 1500\n",
    "\n",
    "num_repitions = 1000\n",
    "male_means = []\n",
    "female_means = []\n",
    "\n",
    "for i in range(num_repitions):\n",
    "    male_mean = male_avg.sample(sample_size, replace=True)['Purchase'].mean()\n",
    "    female_mean = female_avg.sample(sample_size, replace=True)['Purchase'].mean()\n",
    "    \n",
    "    male_means.append(male_mean)\n",
    "    female_means.append(female_mean)\n",
    "    \n",
    "#Taking the values for z at 90%, 95% and 99% confidence interval as:\n",
    "z90=1.645 #90% Confidence Interval\n",
    "z95=1.960 #95% Confidence Interval\n",
    "z99=2.576 #99% Confidence Interval\n",
    "\n",
    "print(\"Population avg spend amount for Male: {:.2f}\".format(male_avg['Purchase'].mean()))\n",
    "print(\"Population avg spend amount for Female: {:.2f}\\n\".format(female_avg['Purchase'].mean()))\n",
    "\n",
    "print(\"Sample avg spend amount for Male: {:.2f}\".format(np.mean(male_means)))\n",
    "print(\"Sample avg spend amount for Female: {:.2f}\\n\".format(np.mean(female_means)))\n",
    "\n",
    "print(\"Sample std for Male: {:.2f}\".format(pd.Series(male_means).std()))\n",
    "print(\"Sample std for Female: {:.2f}\\n\".format(pd.Series(female_means).std()))\n",
    "\n",
    "print(\"Sample std error for Male: {:.2f}\".format(pd.Series(male_means).std()/np.sqrt(1500))) \n",
    "print(\"Sample std error for Female: {:.2f}\\n\".format(pd.Series(female_means).std()/np.sqrt(1500)))\n",
    "\n",
    "sample_mean_male=np.mean(male_means)\n",
    "sample_mean_female=np.mean(female_means)\n",
    "\n",
    "sample_std_male=pd.Series(male_means).std()\n",
    "sample_std_female=pd.Series(female_means).std()\n",
    "\n",
    "sample_std_error_male=sample_std_male/np.sqrt(1500)\n",
    "sample_std_error_female=sample_std_female/np.sqrt(1500)\n",
    "\n",
    "Upper_Limit_male=z90*sample_std_error_male + sample_mean_male\n",
    "Lower_Limit_male=sample_mean_male - z90*sample_std_error_male\n",
    "\n",
    "Upper_Limit_female=z90*sample_std_error_female + sample_mean_female\n",
    "Lower_Limit_female=sample_mean_female - z90*sample_std_error_female\n",
    "\n",
    "print(\"Male_CI: \",[Lower_Limit_male,Upper_Limit_male])\n",
    "print(\"Female_CI: \",[Lower_Limit_female,Upper_Limit_female])"
   ]
  },
  {
   "cell_type": "markdown",
   "id": "e51ff7ae",
   "metadata": {},
   "source": [
    "Observation: Now using the Confidence interval at 90%, we can say that:\n",
    "* Average amount spend by male customers lie in the range 9,25,350.30 - 9,27,518.03\n",
    "* Average amount spend by female customers lie in range 7,11,315.40 - 7,13,024.93\n",
    "* By increasing the sample size we can see confidence interval is more closer to the population mean."
   ]
  },
  {
   "cell_type": "code",
   "execution_count": 43,
   "id": "eb223aab",
   "metadata": {},
   "outputs": [
    {
     "name": "stdout",
     "output_type": "stream",
     "text": [
      "Population avg spend amount for Male: 925344.40\n",
      "Population avg spend amount for Female: 712024.39\n",
      "\n",
      "Sample avg spend amount for Male: 924434.94\n",
      "Sample avg spend amount for Female: 711800.78\n",
      "\n",
      "Sample std for Male: 25708.70\n",
      "Sample std for Female: 21523.71\n",
      "\n",
      "Sample std error for Male: 663.80\n",
      "Sample std error for Female: 555.74\n",
      "\n",
      "Male_CI:  [923133.900475366, 925735.9802939673]\n",
      "Female_CI:  [710711.5253549563, 712890.0256023768]\n"
     ]
    }
   ],
   "source": [
    "#Calculating 95% confidence interval for sample size 1500:\n",
    "\n",
    "print(\"Population avg spend amount for Male: {:.2f}\".format(male_avg['Purchase'].mean()))\n",
    "print(\"Population avg spend amount for Female: {:.2f}\\n\".format(female_avg['Purchase'].mean()))\n",
    "\n",
    "print(\"Sample avg spend amount for Male: {:.2f}\".format(np.mean(male_means)))\n",
    "print(\"Sample avg spend amount for Female: {:.2f}\\n\".format(np.mean(female_means)))\n",
    "\n",
    "print(\"Sample std for Male: {:.2f}\".format(pd.Series(male_means).std()))\n",
    "print(\"Sample std for Female: {:.2f}\\n\".format(pd.Series(female_means).std()))\n",
    "\n",
    "print(\"Sample std error for Male: {:.2f}\".format(pd.Series(male_means).std()/np.sqrt(1500))) \n",
    "print(\"Sample std error for Female: {:.2f}\\n\".format(pd.Series(female_means).std()/np.sqrt(1500)))\n",
    "\n",
    "sample_mean_male=np.mean(male_means)\n",
    "sample_mean_female=np.mean(female_means)\n",
    "\n",
    "sample_std_male=pd.Series(male_means).std()\n",
    "sample_std_female=pd.Series(female_means).std()\n",
    "\n",
    "sample_std_error_male=sample_std_male/np.sqrt(1500)\n",
    "sample_std_error_female=sample_std_female/np.sqrt(1500)\n",
    "\n",
    "Upper_Limit_male=z95*sample_std_error_male + sample_mean_male\n",
    "Lower_Limit_male=sample_mean_male - z95*sample_std_error_male\n",
    "\n",
    "Upper_Limit_female=z95*sample_std_error_female + sample_mean_female\n",
    "Lower_Limit_female=sample_mean_female - z95*sample_std_error_female\n",
    "\n",
    "print(\"Male_CI: \",[Lower_Limit_male,Upper_Limit_male])\n",
    "print(\"Female_CI: \",[Lower_Limit_female,Upper_Limit_female])"
   ]
  },
  {
   "cell_type": "markdown",
   "id": "cb5bfd1f",
   "metadata": {},
   "source": [
    "Observation: Now using the Confidence interval at 95%, we can say that:\n",
    "* Average amount spend by male customers lie in the range 9,25,142.76 - 9,27,725.58\n",
    "* Average amount spend by female customers lie in range 7,11,151.72 - 7,13,188.61\n",
    "* By increasing the sample size we can see confidence interval is more closer to the population mean."
   ]
  },
  {
   "cell_type": "code",
   "execution_count": 44,
   "id": "9765e58e",
   "metadata": {},
   "outputs": [
    {
     "name": "stdout",
     "output_type": "stream",
     "text": [
      "Population avg spend amount for Male: 925344.40\n",
      "Population avg spend amount for Female: 712024.39\n",
      "\n",
      "Sample avg spend amount for Male: 924434.94\n",
      "Sample avg spend amount for Female: 711800.78\n",
      "\n",
      "Sample std for Male: 25708.70\n",
      "Sample std for Female: 21523.71\n",
      "\n",
      "Sample std error for Male: 663.80\n",
      "Sample std error for Female: 555.74\n",
      "\n",
      "Male_CI:  [922725.0022181573, 926144.878551176]\n",
      "Female_CI:  [710369.1896017903, 713232.3613555428]\n"
     ]
    }
   ],
   "source": [
    "#Calculating 99% confidence interval for sample size 1500:\n",
    "\n",
    "print(\"Population avg spend amount for Male: {:.2f}\".format(male_avg['Purchase'].mean()))\n",
    "print(\"Population avg spend amount for Female: {:.2f}\\n\".format(female_avg['Purchase'].mean()))\n",
    "\n",
    "print(\"Sample avg spend amount for Male: {:.2f}\".format(np.mean(male_means)))\n",
    "print(\"Sample avg spend amount for Female: {:.2f}\\n\".format(np.mean(female_means)))\n",
    "\n",
    "print(\"Sample std for Male: {:.2f}\".format(pd.Series(male_means).std()))\n",
    "print(\"Sample std for Female: {:.2f}\\n\".format(pd.Series(female_means).std()))\n",
    "\n",
    "print(\"Sample std error for Male: {:.2f}\".format(pd.Series(male_means).std()/np.sqrt(1500))) \n",
    "print(\"Sample std error for Female: {:.2f}\\n\".format(pd.Series(female_means).std()/np.sqrt(1500)))\n",
    "\n",
    "sample_mean_male=np.mean(male_means)\n",
    "sample_mean_female=np.mean(female_means)\n",
    "\n",
    "sample_std_male=pd.Series(male_means).std()\n",
    "sample_std_female=pd.Series(female_means).std()\n",
    "\n",
    "sample_std_error_male=sample_std_male/np.sqrt(1500)\n",
    "sample_std_error_female=sample_std_female/np.sqrt(1500)\n",
    "\n",
    "Upper_Limit_male=z99*sample_std_error_male + sample_mean_male\n",
    "Lower_Limit_male=sample_mean_male - z99*sample_std_error_male\n",
    "\n",
    "Upper_Limit_female=z99*sample_std_error_female + sample_mean_female\n",
    "Lower_Limit_female=sample_mean_female - z99*sample_std_error_female\n",
    "\n",
    "print(\"Male_CI: \",[Lower_Limit_male,Upper_Limit_male])\n",
    "print(\"Female_CI: \",[Lower_Limit_female,Upper_Limit_female])"
   ]
  },
  {
   "cell_type": "markdown",
   "id": "5758a09e",
   "metadata": {},
   "source": [
    "Observation: Now using the Confidence interval at 99%, we can say that:\n",
    "* Average amount spend by male customers lie in the range 924736.88 - 928131.45\n",
    "* Average amount spend by female customers lie in range 710831.63 - 713508.69\n",
    "* By increasing the sample size we can see confidence interval is more closer to the population mean."
   ]
  },
  {
   "cell_type": "code",
   "execution_count": 45,
   "id": "45f92ffb",
   "metadata": {},
   "outputs": [
    {
     "data": {
      "image/png": "[encoded data removed]",
      "text/plain": [
       "<Figure size 1440x432 with 2 Axes>"
      ]
     },
     "metadata": {
      "needs_background": "light"
     },
     "output_type": "display_data"
    }
   ],
   "source": [
    "#CLT and Confidence interval considering marital status:\n",
    "\n",
    "avg_Marital = walmart.groupby(['User_ID', 'Marital_Status'])[['Purchase']].sum()\n",
    "avg_Marital = avg_Marital.reset_index()\n",
    "\n",
    "avgamt_married = avg_Marital[avg_Marital['Marital_Status']==1]\n",
    "avgamt_single = avg_Marital[avg_Marital['Marital_Status']==0]\n",
    "\n",
    "sample_size = 1000\n",
    "num_repitions = 1000\n",
    "married_means = []\n",
    "single_means = []\n",
    "\n",
    "for i in range(num_repitions):\n",
    "    avg_married = avg_Marital[avg_Marital['Marital_Status']==1].sample(sample_size, replace=True)['Purchase'].mean()\n",
    "    avg_single = avg_Marital[avg_Marital['Marital_Status']==0].sample(sample_size, replace=True)['Purchase'].mean()\n",
    "    \n",
    "    married_means.append(avg_married)\n",
    "    single_means.append(avg_single)\n",
    "    \n",
    "    \n",
    "fig, axis = plt.subplots(nrows=1, ncols=2, figsize=(20, 6))\n",
    "\n",
    "axis[0].hist(married_means, bins=35)\n",
    "axis[1].hist(single_means, bins=35)\n",
    "axis[0].set_title(\"Married distribution of means, Sample size: 1000\")\n",
    "axis[1].set_title(\"Unmarried distribution of means, Sample size: 1000\")\n",
    "\n",
    "plt.show()"
   ]
  },
  {
   "cell_type": "markdown",
   "id": "0666d9e2",
   "metadata": {},
   "source": [
    "Observations: The means sample seems to be normally distributed for both married and singles. Also, we can see the mean of the sample means are closer to the population mean as per central limit theorem."
   ]
  },
  {
   "cell_type": "code",
   "execution_count": 46,
   "id": "9e6d76f7",
   "metadata": {},
   "outputs": [
    {
     "data": {
      "text/plain": [
       "0    3417\n",
       "1    2474\n",
       "Name: Marital_Status, dtype: int64"
      ]
     },
     "execution_count": 46,
     "metadata": {},
     "output_type": "execute_result"
    }
   ],
   "source": [
    "avg_Marital['Marital_Status'].value_counts()"
   ]
  },
  {
   "cell_type": "code",
   "execution_count": 47,
   "id": "e7ad40c9",
   "metadata": {},
   "outputs": [
    {
     "name": "stdout",
     "output_type": "stream",
     "text": [
      "Population avg spend amount for Married: 843526.80\n",
      "Population avg spend amount for Single: 880575.78\n",
      "\n",
      "Sample avg spend amount for Married: 845416.97\n",
      "Sample avg spend amount for Single: 880197.84\n",
      "\n",
      "Sample std for Married: 30707.22\n",
      "Sample std for Single: 30085.50\n",
      "\n",
      "Sample std error for Married: 971.05\n",
      "Sample std error for Single: 951.39\n",
      "\n",
      "Married_CI:  [843819.593588795, 846508.9111925917]\n",
      "Single_CI:  [878632.8065251067, 881762.8700468935]\n"
     ]
    }
   ],
   "source": [
    "# Calculating 90% confidence interval for avg expenses for married/single for sample size 1000:\n",
    "\n",
    "#Taking the values for z at 90%, 95% and 99% confidence interval as:\n",
    "z90=1.645 #90% Confidence Interval\n",
    "z95=1.960 #95% Confidence Interval\n",
    "z99=2.576 #99% Confidence Interval\n",
    "\n",
    "print(\"Population avg spend amount for Married: {:.2f}\".format(avgamt_married['Purchase'].mean()))\n",
    "print(\"Population avg spend amount for Single: {:.2f}\\n\".format(avgamt_single['Purchase'].mean()))\n",
    "\n",
    "print(\"Sample avg spend amount for Married: {:.2f}\".format(np.mean(married_means)))\n",
    "print(\"Sample avg spend amount for Single: {:.2f}\\n\".format(np.mean(single_means)))\n",
    "\n",
    "print(\"Sample std for Married: {:.2f}\".format(pd.Series(married_means).std()))\n",
    "print(\"Sample std for Single: {:.2f}\\n\".format(pd.Series(single_means).std()))\n",
    "\n",
    "print(\"Sample std error for Married: {:.2f}\".format(pd.Series(married_means).std()/np.sqrt(1000))) \n",
    "print(\"Sample std error for Single: {:.2f}\\n\".format(pd.Series(single_means).std()/np.sqrt(1000)))\n",
    "\n",
    "sample_mean_married=np.mean(married_means)\n",
    "sample_mean_single=np.mean(single_means)\n",
    "\n",
    "sample_std_married=pd.Series(married_means).std()\n",
    "sample_std_single=pd.Series(single_means).std()\n",
    "\n",
    "sample_std_error_married=sample_std_married/np.sqrt(1000)\n",
    "sample_std_error_single=sample_std_single/np.sqrt(1000)\n",
    "\n",
    "Upper_Limit_married=z90*sample_std_error_male + sample_mean_married\n",
    "Lower_Limit_married=sample_mean_married - z90*sample_std_error_married\n",
    "\n",
    "Upper_Limit_single=z90*sample_std_error_single + sample_mean_single\n",
    "Lower_Limit_single=sample_mean_single - z90*sample_std_error_single\n",
    "\n",
    "print(\"Married_CI: \",[Lower_Limit_married,Upper_Limit_married])\n",
    "print(\"Single_CI: \",[Lower_Limit_single,Upper_Limit_single])"
   ]
  },
  {
   "cell_type": "code",
   "execution_count": 48,
   "id": "0b2f76f6",
   "metadata": {},
   "outputs": [
    {
     "name": "stdout",
     "output_type": "stream",
     "text": [
      "Population avg spend amount for Married: 843526.80\n",
      "Population avg spend amount for Single: 880575.78\n",
      "\n",
      "Sample avg spend amount for Married: 845416.97\n",
      "Sample avg spend amount for Single: 880197.84\n",
      "\n",
      "Sample std for Married: 30707.22\n",
      "Sample std for Single: 30085.50\n",
      "\n",
      "Sample std error for Married: 971.05\n",
      "Sample std error for Single: 951.39\n",
      "\n",
      "Married_CI:  [843513.7135771388, 846718.0068923007]\n",
      "Single_CI:  [878333.1195921695, 882062.5569798306]\n"
     ]
    }
   ],
   "source": [
    "#Calculating 95% confidence interval for avg expenses for married/single for sample size 1000:\n",
    "\n",
    "#Taking the values for z at 90%, 95% and 99% confidence interval as:\n",
    "z90=1.645 #90% Confidence Interval\n",
    "z95=1.960 #95% Confidence Interval\n",
    "z99=2.576 #99% Confidence Interval\n",
    "\n",
    "print(\"Population avg spend amount for Married: {:.2f}\".format(avgamt_married['Purchase'].mean()))\n",
    "print(\"Population avg spend amount for Single: {:.2f}\\n\".format(avgamt_single['Purchase'].mean()))\n",
    "\n",
    "print(\"Sample avg spend amount for Married: {:.2f}\".format(np.mean(married_means)))\n",
    "print(\"Sample avg spend amount for Single: {:.2f}\\n\".format(np.mean(single_means)))\n",
    "\n",
    "print(\"Sample std for Married: {:.2f}\".format(pd.Series(married_means).std()))\n",
    "print(\"Sample std for Single: {:.2f}\\n\".format(pd.Series(single_means).std()))\n",
    "\n",
    "print(\"Sample std error for Married: {:.2f}\".format(pd.Series(married_means).std()/np.sqrt(1000))) \n",
    "print(\"Sample std error for Single: {:.2f}\\n\".format(pd.Series(single_means).std()/np.sqrt(1000)))\n",
    "\n",
    "sample_mean_married=np.mean(married_means)\n",
    "sample_mean_single=np.mean(single_means)\n",
    "\n",
    "sample_std_married=pd.Series(married_means).std()\n",
    "sample_std_single=pd.Series(single_means).std()\n",
    "\n",
    "sample_std_error_married=sample_std_married/np.sqrt(1000)\n",
    "sample_std_error_single=sample_std_single/np.sqrt(1000)\n",
    "\n",
    "Upper_Limit_married=z95*sample_std_error_male + sample_mean_married\n",
    "Lower_Limit_married=sample_mean_married - z95*sample_std_error_married\n",
    "\n",
    "Upper_Limit_single=z95*sample_std_error_single + sample_mean_single\n",
    "Lower_Limit_single=sample_mean_single - z95*sample_std_error_single\n",
    "\n",
    "print(\"Married_CI: \",[Lower_Limit_married,Upper_Limit_married])\n",
    "print(\"Single_CI: \",[Lower_Limit_single,Upper_Limit_single])"
   ]
  },
  {
   "cell_type": "code",
   "execution_count": 49,
   "id": "41c8bc33",
   "metadata": {},
   "outputs": [
    {
     "name": "stdout",
     "output_type": "stream",
     "text": [
      "Population avg spend amount for Married: 843526.80\n",
      "Population avg spend amount for Single: 880575.78\n",
      "\n",
      "Sample avg spend amount for Married: 845416.97\n",
      "Sample avg spend amount for Single: 880197.84\n",
      "\n",
      "Sample std for Married: 30707.22\n",
      "Sample std for Single: 30085.50\n",
      "\n",
      "Sample std error for Married: 971.05\n",
      "Sample std error for Single: 951.39\n",
      "\n",
      "Married_CI:  [843513.7135771388, 846718.0068923007]\n",
      "Single_CI:  [878333.1195921695, 882062.5569798306]\n"
     ]
    }
   ],
   "source": [
    "#Calculating 99% confidence interval for avg expenses for married/single for sample size 1000:\n",
    "\n",
    "#Taking the values for z at 90%, 95% and 99% confidence interval as:\n",
    "z90=1.645 #90% Confidence Interval\n",
    "z95=1.960 #95% Confidence Interval\n",
    "z99=2.576 #99% Confidence Interval\n",
    "\n",
    "print(\"Population avg spend amount for Married: {:.2f}\".format(avgamt_married['Purchase'].mean()))\n",
    "print(\"Population avg spend amount for Single: {:.2f}\\n\".format(avgamt_single['Purchase'].mean()))\n",
    "\n",
    "print(\"Sample avg spend amount for Married: {:.2f}\".format(np.mean(married_means)))\n",
    "print(\"Sample avg spend amount for Single: {:.2f}\\n\".format(np.mean(single_means)))\n",
    "\n",
    "print(\"Sample std for Married: {:.2f}\".format(pd.Series(married_means).std()))\n",
    "print(\"Sample std for Single: {:.2f}\\n\".format(pd.Series(single_means).std()))\n",
    "\n",
    "print(\"Sample std error for Married: {:.2f}\".format(pd.Series(married_means).std()/np.sqrt(1000))) \n",
    "print(\"Sample std error for Single: {:.2f}\\n\".format(pd.Series(single_means).std()/np.sqrt(1000)))\n",
    "\n",
    "sample_mean_married=np.mean(married_means)\n",
    "sample_mean_single=np.mean(single_means)\n",
    "\n",
    "sample_std_married=pd.Series(married_means).std()\n",
    "sample_std_single=pd.Series(single_means).std()\n",
    "\n",
    "sample_std_error_married=sample_std_married/np.sqrt(1000)\n",
    "sample_std_error_single=sample_std_single/np.sqrt(1000)\n",
    "\n",
    "Upper_Limit_married=z95*sample_std_error_male + sample_mean_married\n",
    "Lower_Limit_married=sample_mean_married - z95*sample_std_error_married\n",
    "\n",
    "Upper_Limit_single=z95*sample_std_error_single + sample_mean_single\n",
    "Lower_Limit_single=sample_mean_single - z95*sample_std_error_single\n",
    "\n",
    "print(\"Married_CI: \",[Lower_Limit_married,Upper_Limit_married])\n",
    "print(\"Single_CI: \",[Lower_Limit_single,Upper_Limit_single])"
   ]
  },
  {
   "cell_type": "code",
   "execution_count": 50,
   "id": "5a3bcf3c",
   "metadata": {},
   "outputs": [
    {
     "name": "stdout",
     "output_type": "stream",
     "text": [
      "Population avg spend amount for Married: 843526.80\n",
      "Population avg spend amount for Single: 880575.78\n",
      "\n",
      "Sample avg spend amount for Married: 845416.97\n",
      "Sample avg spend amount for Single: 880197.84\n",
      "\n",
      "Sample std for Married: 30707.22\n",
      "Sample std for Single: 30085.50\n",
      "\n",
      "Sample std error for Married: 971.05\n",
      "Sample std error for Single: 951.39\n",
      "\n",
      "Married_CI:  [842915.5482210111, 847126.9051495094]\n",
      "Single_CI:  [877747.0651455371, 882648.611426463]\n"
     ]
    }
   ],
   "source": [
    "#Calculating 99% confidence interval for avg expenses for married/single for sample size 1000:\n",
    "\n",
    "#Taking the values for z at 90%, 95% and 99% confidence interval as:\n",
    "z90=1.645 #90% Confidence Interval\n",
    "z95=1.960 #95% Confidence Interval\n",
    "z99=2.576 #99% Confidence Interval\n",
    "\n",
    "print(\"Population avg spend amount for Married: {:.2f}\".format(avgamt_married['Purchase'].mean()))\n",
    "print(\"Population avg spend amount for Single: {:.2f}\\n\".format(avgamt_single['Purchase'].mean()))\n",
    "\n",
    "print(\"Sample avg spend amount for Married: {:.2f}\".format(np.mean(married_means)))\n",
    "print(\"Sample avg spend amount for Single: {:.2f}\\n\".format(np.mean(single_means)))\n",
    "\n",
    "print(\"Sample std for Married: {:.2f}\".format(pd.Series(married_means).std()))\n",
    "print(\"Sample std for Single: {:.2f}\\n\".format(pd.Series(single_means).std()))\n",
    "\n",
    "print(\"Sample std error for Married: {:.2f}\".format(pd.Series(married_means).std()/np.sqrt(1000))) \n",
    "print(\"Sample std error for Single: {:.2f}\\n\".format(pd.Series(single_means).std()/np.sqrt(1000)))\n",
    "\n",
    "sample_mean_married=np.mean(married_means)\n",
    "sample_mean_single=np.mean(single_means)\n",
    "\n",
    "sample_std_married=pd.Series(married_means).std()\n",
    "sample_std_single=pd.Series(single_means).std()\n",
    "\n",
    "sample_std_error_married=sample_std_married/np.sqrt(1000)\n",
    "sample_std_error_single=sample_std_single/np.sqrt(1000)\n",
    "\n",
    "Upper_Limit_married=z99*sample_std_error_male + sample_mean_married\n",
    "Lower_Limit_married=sample_mean_married - z99*sample_std_error_married\n",
    "\n",
    "Upper_Limit_single=z99*sample_std_error_single + sample_mean_single\n",
    "Lower_Limit_single=sample_mean_single - z99*sample_std_error_single\n",
    "\n",
    "print(\"Married_CI: \",[Lower_Limit_married,Upper_Limit_married])\n",
    "print(\"Single_CI: \",[Lower_Limit_single,Upper_Limit_single])"
   ]
  },
  {
   "cell_type": "markdown",
   "id": "107b7209",
   "metadata": {},
   "source": [
    "Observation: For married and singles, it can be seen with larger sample size the sample mean gets closer to the population mean. And at greater confidence interval, the range increases."
   ]
  },
  {
   "cell_type": "code",
   "execution_count": 51,
   "id": "b54335a2",
   "metadata": {},
   "outputs": [
    {
     "data": {
      "text/plain": [
       "26-35    2053\n",
       "36-45    1167\n",
       "18-25    1069\n",
       "46-50     531\n",
       "51-55     481\n",
       "55+       372\n",
       "0-17      218\n",
       "Name: Age, dtype: int64"
      ]
     },
     "execution_count": 51,
     "metadata": {},
     "output_type": "execute_result"
    }
   ],
   "source": [
    "age_avgamt = walmart.groupby(['User_ID', 'Age'])[['Purchase']].sum()\n",
    "age_avgamt = age_avgamt.reset_index()\n",
    "\n",
    "age_avgamt['Age'].value_counts()"
   ]
  },
  {
   "cell_type": "code",
   "execution_count": 52,
   "id": "798e8b05",
   "metadata": {},
   "outputs": [
    {
     "data": {
      "image/png": "[encoded data removed]",
      "text/plain": [
       "<Figure size 1152x1080 with 6 Axes>"
      ]
     },
     "metadata": {
      "needs_background": "light"
     },
     "output_type": "display_data"
    },
    {
     "data": {
      "image/png": "[encoded data removed]",
      "text/plain": [
       "<Figure size 720x360 with 1 Axes>"
      ]
     },
     "metadata": {
      "needs_background": "light"
     },
     "output_type": "display_data"
    }
   ],
   "source": [
    "sample_size = 200\n",
    "num_repitions = 1000\n",
    "\n",
    "all_sample_means = {}\n",
    "\n",
    "age_intervals = ['26-35', '36-45', '18-25', '46-50', '51-55', '55+', '0-17']\n",
    "for i in age_intervals:\n",
    "    all_sample_means[i] = []\n",
    "    \n",
    "for i in age_intervals:\n",
    "    for j in range(num_repitions):\n",
    "        \n",
    "        mean = age_avgamt[age_avgamt['Age']==i].sample(sample_size, replace=True)['Purchase'].mean()\n",
    "        all_sample_means[i].append(mean)\n",
    "        \n",
    "\n",
    "        \n",
    "fig, axis = plt.subplots(nrows=3, ncols=2, figsize=(16, 15))\n",
    "\n",
    "sns.histplot(all_sample_means['26-35'],bins=35,ax=axis[0,0])\n",
    "sns.histplot(all_sample_means['36-45'],bins=35,ax=axis[0,1])\n",
    "sns.histplot(all_sample_means['18-25'],bins=35,ax=axis[1,0])\n",
    "sns.histplot(all_sample_means['46-50'],bins=35,ax=axis[1,1])\n",
    "sns.histplot(all_sample_means['51-55'],bins=35,ax=axis[2,0])\n",
    "sns.histplot(all_sample_means['55+'],bins=35,ax=axis[2,1])\n",
    "\n",
    "plt.show()\n",
    "\n",
    "plt.figure(figsize=(10, 5))\n",
    "sns.histplot(all_sample_means['0-17'],bins=35)\n",
    "plt.show()"
   ]
  },
  {
   "cell_type": "markdown",
   "id": "55c37796",
   "metadata": {},
   "source": [
    "Observations: The means sample seems to be normally distributed for all age groups. Also, we can see the mean of the sample means are closer to the population mean as per central limit theorem."
   ]
  },
  {
   "cell_type": "code",
   "execution_count": 53,
   "id": "5a2d156f",
   "metadata": {},
   "outputs": [
    {
     "name": "stdout",
     "output_type": "stream",
     "text": [
      "All age group population mean: \n",
      " {'26-35': [989659.3170969313], '36-45': [879665.7103684661], '18-25': [854863.119738073], '46-50': [792548.7815442561], '51-55': [763200.9230769231], '55+': [539697.2446236559], '0-17': [618867.8119266055]}\n",
      "\n",
      "\n",
      "For age 26-35 confidence interval of means: (952206.28, 1027112.35)\n",
      "For age 36-45 confidence interval of means: (832398.89, 926932.53)\n",
      "For age 18-25 confidence interval of means: (810187.65, 899538.59)\n",
      "For age 46-50 confidence interval of means: (726209.00, 858888.57)\n",
      "For age 51-55 confidence interval of means: (703772.36, 822629.48)\n",
      "For age 55+ confidence interval of means: (487032.92, 592361.57)\n",
      "For age 0-17 confidence interval of means: (542320.46, 695415.16)\n"
     ]
    }
   ],
   "source": [
    "#Calculating 90% confidence interval for avg expenses for different age groups for sample size 200:\n",
    "\n",
    "z90=1.645 #90% Confidence Interval\n",
    "z95=1.960 #95% Confidence Interval\n",
    "z99=2.576 #99% Confidence Interval\n",
    "\n",
    "sample_size = 200\n",
    "num_repitions = 1000\n",
    "\n",
    "all_population_means={}\n",
    "all_sample_means = {}\n",
    "\n",
    "age_intervals = ['26-35', '36-45', '18-25', '46-50', '51-55', '55+', '0-17']\n",
    "for i in age_intervals:\n",
    "    all_sample_means[i] = []\n",
    "    all_population_means[i]=[]\n",
    "    population_mean=age_avgamt[age_avgamt['Age']==i]['Purchase'].mean()\n",
    "    all_population_means[i].append(population_mean)\n",
    "    \n",
    "print(\"All age group population mean: \\n\", all_population_means)\n",
    "print(\"\\n\")\n",
    "    \n",
    "for i in age_intervals:\n",
    "    for j in range(num_repitions):\n",
    "        \n",
    "        mean = age_avgamt[age_avgamt['Age']==i].sample(sample_size, replace=True)['Purchase'].mean()\n",
    "        all_sample_means[i].append(mean)\n",
    "        \n",
    "        \n",
    "for val in ['26-35', '36-45', '18-25', '46-50', '51-55', '55+', '0-17']:\n",
    "    \n",
    "    new_df = age_avgamt[age_avgamt['Age']==val] \n",
    "    \n",
    "    std_error = z90*new_df['Purchase'].std()/np.sqrt(len(new_df))\n",
    "    sample_mean = new_df['Purchase'].mean()\n",
    "    lower_lim = sample_mean - std_error\n",
    "    upper_lim = sample_mean + std_error\n",
    "\n",
    "    print(\"For age {} confidence interval of means: ({:.2f}, {:.2f})\".format(val, lower_lim, upper_lim))"
   ]
  },
  {
   "cell_type": "code",
   "execution_count": 54,
   "id": "7eff286b",
   "metadata": {},
   "outputs": [
    {
     "name": "stdout",
     "output_type": "stream",
     "text": [
      "For age 26-35 confidence interval of means: (945034.42, 1034284.21)\n",
      "For age 36-45 confidence interval of means: (823347.80, 935983.62)\n",
      "For age 18-25 confidence interval of means: (801632.78, 908093.46)\n",
      "For age 46-50 confidence interval of means: (713505.63, 871591.93)\n",
      "For age 51-55 confidence interval of means: (692392.43, 834009.42)\n",
      "For age 55+ confidence interval of means: (476948.26, 602446.23)\n",
      "For age 0-17 confidence interval of means: (527662.46, 710073.17)\n"
     ]
    }
   ],
   "source": [
    "#Calculating 95% confidence interval for avg expenses for different age groups for sample size 200:\n",
    "\n",
    "z90=1.645 #90% Confidence Interval\n",
    "z95=1.960 #95% Confidence Interval\n",
    "z99=2.576 #99% Confidence Interval\n",
    "\n",
    "sample_size = 200\n",
    "num_repitions = 1000\n",
    "\n",
    "all_means = {}\n",
    "\n",
    "age_intervals = ['26-35', '36-45', '18-25', '46-50', '51-55', '55+', '0-17']\n",
    "for i in age_intervals:\n",
    "    all_means[i] = []\n",
    "\n",
    "for i in age_intervals:\n",
    "    for j in range(num_repitions):\n",
    "        mean = age_avgamt[age_avgamt['Age']==i].sample(sample_size, replace=True)['Purchase'].mean()\n",
    "        all_means[i].append(mean)\n",
    "for val in ['26-35', '36-45', '18-25', '46-50', '51-55', '55+', '0-17']:\n",
    "    \n",
    "    new_df = age_avgamt[age_avgamt['Age']==val] \n",
    "    \n",
    "    std_error = z95*new_df['Purchase'].std()/np.sqrt(len(new_df))\n",
    "    sample_mean = new_df['Purchase'].mean()\n",
    "    lower_lim = sample_mean - std_error\n",
    "    upper_lim = sample_mean + std_error\n",
    "\n",
    "    print(\"For age {} confidence interval of means: ({:.2f}, {:.2f})\".format(val, lower_lim, upper_lim))"
   ]
  },
  {
   "cell_type": "code",
   "execution_count": 55,
   "id": "56365902",
   "metadata": {},
   "outputs": [
    {
     "name": "stdout",
     "output_type": "stream",
     "text": [
      "For age 26-35 confidence interval of means: (931009.46, 1048309.18)\n",
      "For age 36-45 confidence interval of means: (805647.89, 953683.53)\n",
      "For age 18-25 confidence interval of means: (784903.24, 924823.00)\n",
      "For age 46-50 confidence interval of means: (688663.50, 896434.06)\n",
      "For age 51-55 confidence interval of means: (670138.33, 856263.52)\n",
      "For age 55+ confidence interval of means: (457227.15, 622167.34)\n",
      "For age 0-17 confidence interval of means: (498997.92, 738737.71)\n"
     ]
    }
   ],
   "source": [
    "#Calculating 99% confidence interval for avg expenses for different age groups for sample size 200:\n",
    "\n",
    "z90=1.645 #90% Confidence Interval\n",
    "z95=1.960 #95% Confidence Interval\n",
    "z99=2.576 #99% Confidence Interval\n",
    "\n",
    "sample_size = 200\n",
    "num_repitions = 1000\n",
    "\n",
    "all_means = {}\n",
    "\n",
    "age_intervals = ['26-35', '36-45', '18-25', '46-50', '51-55', '55+', '0-17']\n",
    "for i in age_intervals:\n",
    "    all_means[i] = []\n",
    "\n",
    "for i in age_intervals:\n",
    "    for j in range(num_repitions):\n",
    "        mean = age_avgamt[age_avgamt['Age']==i].sample(sample_size, replace=True)['Purchase'].mean()\n",
    "        all_means[i].append(mean)\n",
    "for val in ['26-35', '36-45', '18-25', '46-50', '51-55', '55+', '0-17']:\n",
    "    \n",
    "    new_df = age_avgamt[age_avgamt['Age']==val] \n",
    "    \n",
    "    std_error = z99*new_df['Purchase'].std()/np.sqrt(len(new_df))\n",
    "    sample_mean = new_df['Purchase'].mean()\n",
    "    lower_lim = sample_mean - std_error\n",
    "    upper_lim = sample_mean + std_error\n",
    "\n",
    "    print(\"For age {} confidence interval of means: ({:.2f}, {:.2f})\".format(val, lower_lim, upper_lim))"
   ]
  },
  {
   "cell_type": "markdown",
   "id": "81c9c92a",
   "metadata": {},
   "source": [
    "Observation: We can see the sample means are closer to the population mean for the differnt age groups. And, with greater confidence interval we have the upper limit and lower limit range increases. As we have seen for gender and marital status, by increasing the sample size we can have the mean of the sample means closer to the population. "
   ]
  },
  {
   "cell_type": "markdown",
   "id": "37dd6755",
   "metadata": {},
   "source": [
    "### Recommendations:\n",
    "\n",
    "1. Men spent more money than women, company can focus on retaining the male customers and getting more male customers.\n",
    "\n",
    "2. Product Category - 1, 5, 8 have highest purchasing frequency. it means these are the products in these categories are in more demand. Company can focus on selling more of these products.\n",
    "\n",
    "3. Unmarried customers spend more money than married customers, So company should focus on acquisition of Unmarried customers.\n",
    "\n",
    "4. Customers in the age 26-35 spend more money than the others, So company should focus on acquisition of customers who are in the age 26-35.\n",
    "\n",
    "5. We have more customers aged 26-35 in the city category B and A, company can focus more on these customers for these cities to increase the business.\n",
    "\n",
    "6. Male customers living in City_Category C spend more money than other male customers living in B or C, Selling more products in the City_Category C will help the company increase the revenue.\n",
    "\n",
    "7. Some of the Product category like 19,20,13 have very less purchase. Company can think of dropping it.\n",
    "\n",
    "8. The top 10 users who have purchased more, company should give more offers and discounts so that they can be retained and can be helpful for companies business. \n",
    "\n",
    "9. The occupation which are contributing more company can think of offering credit cards or other benefits to those customers by liasing with some financial partners to increase the sales.\n",
    "\n",
    "10. The top products should be given focus in order to maintain the quality and to further increase the sales of those products.\n",
    "\n",
    "11. People who are staying in city for an year have contributed to 35% of the total purchase amount. Company can focus on such customer base who are neither too old nor too new residents in the city.\n",
    "\n",
    "12. We have highest frequency of purchase order between 5k and 10k, company can focus more on these mid range products to increase the sales."
   ]
  },
  {
   "cell_type": "markdown",
   "id": "4543e17f",
   "metadata": {},
   "source": [
    "### Question:\n",
    "\n",
    "##### 1. Are women spending more money per transaction than men? Why or Why not?\n",
    "\n",
    "Ans: No. CI's of male and female do not overlap and upper limits of female purchase CI are lesser than lower limits of male purchase CI. This proves that men usually spend more than women (NOTE: as per data 77% contibutions are from men and only 23% purchases are from women). \n",
    "\n",
    "The reason for less purchase by women could have several factors:\n",
    "  Males might be doing the purchase for females.\n",
    "  Salary can be a factor in less purchase.\n",
    "  We also need to see whether male-based products were sold more than women-based products to clearly identify difference in spending pattern.\n",
    "  If the female based products quality/quantity needs to be improved for women purchasing.\n",
    "\n",
    "##### 2. Confidence intervals and distribution of the mean of the expenses by female and male customers.\n",
    "\n",
    "At 99% Confidence Interval with sample size 1000\n",
    "Average amount spend by male customers lie in the range 9,23,466.52 - 9,28,700.27\n",
    "Average amount spend by female customers lie in range 7,10,606.4 - 7,14,831.56\n",
    "\n",
    "\n",
    "##### 3. Are confidence intervals of average male and female spending overlapping? How can Walmart leverage this conclusion to make changes or improvements?\n",
    "\n",
    "Ans: No. Confidence intervals of average male and female spending are not overlapping. This trend can be changed via introducing female centric marketing strategies by Walmart so that more female customers are attracted to increase female purchases to achieve comparable statistics close to 50%.\n",
    "\n",
    "##### 4. Results when the same activity is performed for Married vs Unmarried\n",
    "\n",
    "At 99% Confidence Interval with sample size 1000\n",
    "\n",
    "Average amount spend by married customers lie in the range:  [840848.457560682, 844961.1716434382]\n",
    "Average amount spend by unmarried customers lie in the range:  [878814.1896535058, 883762.9890144942]\n",
    "\n",
    "##### 5. Results when the same activity is performed for Age\n",
    "\n",
    "At 99% Confidence Interval with sample size 200\n",
    "\n",
    "For age 26-35 confidence interval of means: (931009.46,1048309.18)\n",
    "For age 36-45 confidence interval of means: (805647.89, 953683.53)\n",
    "For age 18-25 confidence interval of means: (784903.24, 924823.00)\n",
    "For age 46-50 confidence interval of means: (688663.50, 896434.06)\n",
    "For age 51-55 confidence interval of means: (670138.33, 856263.52)\n",
    "For age 55+ confidence interval of means: (457227.15, 622167.34)\n",
    "For age 0-17 confidence interval of means: (498997.92, 738737.71)"
   ]
  },
  {
   "cell_type": "code",
   "execution_count": null,
   "id": "0cfbf4a8",
   "metadata": {},
   "outputs": [],
   "source": []
  }
 ],
 "metadata": {
  "kernelspec": {
   "display_name": "Python 3 (ipykernel)",
   "language": "python",
   "name": "python3"
  },
  "language_info": {
   "codemirror_mode": {
    "name": "ipython",
    "version": 3
   },
   "file_extension": ".py",
   "mimetype": "text/x-python",
   "name": "python",
   "nbconvert_exporter": "python",
   "pygments_lexer": "ipython3",
   "version": "3.9.12"
  }
 },
 "nbformat": 4,
 "nbformat_minor": 5
}
